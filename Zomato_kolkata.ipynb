{
 "cells": [
  {
   "cell_type": "markdown",
   "id": "b84c568e",
   "metadata": {},
   "source": [
    "# Kolkata Zomato Dataset Analysis\n",
    "\n",
    "The dataset contains 7388 rows and 7 columns. The details of the restaurant those provided are –\n",
    "\n",
    "\t'name' [Name of the restaurant]\n",
    "\t'voteCount' [Number of votes received from the user]\n",
    "\t'rating' [rating given to the restaurant by the user] \n",
    "\t'address' [Address of the restaurant]\n",
    "\t'cusine' [Category of cuisine offered] \n",
    "\t'cost' [Average price of the restaurant] \n",
    "\t'timing' [Opening and closing time of the restaurant]\n",
    "\n",
    "We will be performing EDA(exploratory data analysis) on the given Dataset.\n",
    "\n",
    "## Libraries required –\n",
    "\tPandas – Data exploration\n",
    "\tNumpy – Mathematical operation\n",
    "\tMatplotlib –  Data Visualization\n",
    "\tSeaborn –  Data Visualization\n",
    "\n",
    "## WorkFlow – \n",
    "\n",
    "Our workflow will primarily consist of two segments. Data cleaning and data visualization. The data cleaning process will consume more time than the visualization.\n",
    "\n",
    "### Data Cleaning – \n",
    "\n",
    "\tVote count , rating and cost , these three columns are type casted as object. We need to convert them in numerical category for our calculative functionality.\n",
    "\tWe need to find the missing values and then handle them with mean, median or mode operation based on it’s relevance.\n",
    "\tWe need to look for duplicate values in the dataset.\n",
    "\tLet’s create different data frames based on given conditions –\n",
    "\n",
    "•\thigh_end_restos – 1896 , AvgRating – 3.17 , AvgVotecount - 288\n",
    "•\tcheap_restos – 2193 , AvgRating – 2.11 , AvgVotecount - 32\n",
    "•\tmidnight_restos – 670, AvgRating – 2.67 , AvgVotecount - 128\n",
    "•\tgenral_timed_resto – 6718 , AvgRating – 2.49 , AvgVotecount - 107\n",
    "\n",
    "\tLet’s find out the most popular cuisines in the market –\n",
    "\n",
    "•\tNorth Indian\n",
    "•\tChinese\n",
    "•\tFast Food\n",
    "•\tCafé\n",
    "•\tBiriyani\n",
    "•\tBengali\n"
   ]
  },
  {
   "cell_type": "code",
   "execution_count": 1,
   "id": "321afd27",
   "metadata": {},
   "outputs": [],
   "source": [
    "import pandas as pd\n",
    "import numpy as np\n",
    "import matplotlib.pyplot as plt\n",
    "import seaborn as sns"
   ]
  },
  {
   "cell_type": "code",
   "execution_count": 2,
   "id": "b80ff449",
   "metadata": {},
   "outputs": [],
   "source": [
    "Data = pd.read_csv('Zkolkata.csv')"
   ]
  },
  {
   "cell_type": "code",
   "execution_count": 3,
   "id": "b0162dff",
   "metadata": {},
   "outputs": [
    {
     "data": {
      "text/html": [
       "<div>\n",
       "<style scoped>\n",
       "    .dataframe tbody tr th:only-of-type {\n",
       "        vertical-align: middle;\n",
       "    }\n",
       "\n",
       "    .dataframe tbody tr th {\n",
       "        vertical-align: top;\n",
       "    }\n",
       "\n",
       "    .dataframe thead th {\n",
       "        text-align: right;\n",
       "    }\n",
       "</style>\n",
       "<table border=\"1\" class=\"dataframe\">\n",
       "  <thead>\n",
       "    <tr style=\"text-align: right;\">\n",
       "      <th></th>\n",
       "      <th>name</th>\n",
       "      <th>voteCount</th>\n",
       "      <th>rating</th>\n",
       "      <th>address</th>\n",
       "      <th>cusine</th>\n",
       "      <th>cost</th>\n",
       "      <th>timing</th>\n",
       "    </tr>\n",
       "  </thead>\n",
       "  <tbody>\n",
       "    <tr>\n",
       "      <th>0</th>\n",
       "      <td>Peter Cat</td>\n",
       "      <td>12404 votes</td>\n",
       "      <td>4.2</td>\n",
       "      <td>18A, Park Street, Park Street Area, Kolkata</td>\n",
       "      <td>North Indian, Continental</td>\n",
       "      <td>₹1,000</td>\n",
       "      <td>11am – 11:20pm (Mon-Sun)</td>\n",
       "    </tr>\n",
       "    <tr>\n",
       "      <th>1</th>\n",
       "      <td>Naturals Ice Cream</td>\n",
       "      <td>2498 votes</td>\n",
       "      <td>4.9</td>\n",
       "      <td>77/1/A, Ground Floor, Near West Bengal Board, ...</td>\n",
       "      <td>North Indian, Continental</td>\n",
       "      <td>₹200</td>\n",
       "      <td>11am – 12midnight (Mon-Sun)</td>\n",
       "    </tr>\n",
       "    <tr>\n",
       "      <th>2</th>\n",
       "      <td>Carpe Diem</td>\n",
       "      <td>4083 votes</td>\n",
       "      <td>4.4</td>\n",
       "      <td>18M, Park Street Area, Kolkata</td>\n",
       "      <td>Ice Cream</td>\n",
       "      <td>₹1,000</td>\n",
       "      <td>12noon – 12midnight (Mon, Tue, Wed, Thu, Fri...</td>\n",
       "    </tr>\n",
       "    <tr>\n",
       "      <th>3</th>\n",
       "      <td>Barbeque Nation</td>\n",
       "      <td>5455 votes</td>\n",
       "      <td>4.6</td>\n",
       "      <td>1st Floor, 24, Park Center Building, Park Stre...</td>\n",
       "      <td>Ice Cream</td>\n",
       "      <td>₹1,800</td>\n",
       "      <td>12noon – 3:30pm, 6:30pm – 10:45pm (Mon-Sun)</td>\n",
       "    </tr>\n",
       "    <tr>\n",
       "      <th>4</th>\n",
       "      <td>Flurys</td>\n",
       "      <td>4709 votes</td>\n",
       "      <td>4.2</td>\n",
       "      <td>15, Apeejay House, Park Street Area, Kolkata</td>\n",
       "      <td>Chinese, North Indian, Continental</td>\n",
       "      <td>₹400</td>\n",
       "      <td>7:30am – 11pm (Mon-Sun)</td>\n",
       "    </tr>\n",
       "    <tr>\n",
       "      <th>5</th>\n",
       "      <td>KFC</td>\n",
       "      <td>2135 votes</td>\n",
       "      <td>4.1</td>\n",
       "      <td>20K, Park Street, Park Street Area, Kolkata</td>\n",
       "      <td>Chinese, North Indian, Continental</td>\n",
       "      <td>₹450</td>\n",
       "      <td>11am – 11pm (Mon-Sun)</td>\n",
       "    </tr>\n",
       "    <tr>\n",
       "      <th>6</th>\n",
       "      <td>Tung Fong</td>\n",
       "      <td>3644 votes</td>\n",
       "      <td>4.3</td>\n",
       "      <td>25 B, Ground Floor, Karnani Mansion, Free Scho...</td>\n",
       "      <td>North Indian, Chinese, Kebab, BBQ</td>\n",
       "      <td>₹1,000</td>\n",
       "      <td>12noon – 4pm, 6pm – 11pm (Mon-Sun)</td>\n",
       "    </tr>\n",
       "    <tr>\n",
       "      <th>7</th>\n",
       "      <td>Arsalan</td>\n",
       "      <td>1500 votes</td>\n",
       "      <td>4.0</td>\n",
       "      <td>119 A, Muzaffar Ahmed Street, Mirza Ghalib Str...</td>\n",
       "      <td>North Indian, Chinese, Kebab, BBQ</td>\n",
       "      <td>₹1,000</td>\n",
       "      <td>11am – 11:45pm (Mon-Sun)</td>\n",
       "    </tr>\n",
       "    <tr>\n",
       "      <th>8</th>\n",
       "      <td>Kusum Rolls</td>\n",
       "      <td>1973 votes</td>\n",
       "      <td>4.1</td>\n",
       "      <td>21, Karnani Mansion, Park Street Area, Kolkata</td>\n",
       "      <td>Bakery, Desserts, Sandwich</td>\n",
       "      <td>₹300</td>\n",
       "      <td>12noon – 11pm (Mon-Sun)</td>\n",
       "    </tr>\n",
       "    <tr>\n",
       "      <th>9</th>\n",
       "      <td>Kareem's</td>\n",
       "      <td>1027 votes</td>\n",
       "      <td>4.3</td>\n",
       "      <td>55 B, Mirza Ghalib Street, Park Street Area, K...</td>\n",
       "      <td>Bakery, Desserts, Sandwich</td>\n",
       "      <td>₹1,200</td>\n",
       "      <td>12:30pm – 4:30pm, 6:30pm – 11:30pm (Mon-Sun)</td>\n",
       "    </tr>\n",
       "    <tr>\n",
       "      <th>10</th>\n",
       "      <td>WOW! China</td>\n",
       "      <td>53 votes</td>\n",
       "      <td>3.8</td>\n",
       "      <td>19-57, Park Street Area, Kolkata</td>\n",
       "      <td>Fast Food, Burger</td>\n",
       "      <td>₹650</td>\n",
       "      <td>12noon – 11pm (Mon-Sun)</td>\n",
       "    </tr>\n",
       "    <tr>\n",
       "      <th>11</th>\n",
       "      <td>Golden Spoon</td>\n",
       "      <td>1000 votes</td>\n",
       "      <td>3.6</td>\n",
       "      <td>1, Middleton Row, Near Loreto House, Park Stre...</td>\n",
       "      <td>Fast Food, Burger</td>\n",
       "      <td>₹600</td>\n",
       "      <td>12noon – 11pm (Mon-Sun)</td>\n",
       "    </tr>\n",
       "    <tr>\n",
       "      <th>12</th>\n",
       "      <td>BarBQ</td>\n",
       "      <td>8321 votes</td>\n",
       "      <td>4.3</td>\n",
       "      <td>43-47-55, Park Street Area, Kolkata</td>\n",
       "      <td>Chinese, Asian</td>\n",
       "      <td>₹1,200</td>\n",
       "      <td>12noon – 11:15pm (Mon-Sun)</td>\n",
       "    </tr>\n",
       "    <tr>\n",
       "      <th>13</th>\n",
       "      <td>The Kebab Factory</td>\n",
       "      <td>Cuisines:</td>\n",
       "      <td>NEW</td>\n",
       "      <td>33, Royd Street, Park Street Area, Kolkata</td>\n",
       "      <td>Chinese, Asian</td>\n",
       "      <td>₹350</td>\n",
       "      <td>11am – 11pm (Mon-Sun)</td>\n",
       "    </tr>\n",
       "    <tr>\n",
       "      <th>14</th>\n",
       "      <td>Patisserie By Franziska</td>\n",
       "      <td>Cuisines:</td>\n",
       "      <td>NaN</td>\n",
       "      <td>13C, Russell Street, Opposite Bengal Club, Par...</td>\n",
       "      <td>Mughlai, North Indian, Rolls, Biryani</td>\n",
       "      <td>₹450</td>\n",
       "      <td>NaN</td>\n",
       "    </tr>\n",
       "    <tr>\n",
       "      <th>15</th>\n",
       "      <td>The Sixth Sense</td>\n",
       "      <td>92 votes</td>\n",
       "      <td>4.0</td>\n",
       "      <td>25B, Karnani Mansion, Opposite Westside, Park ...</td>\n",
       "      <td>Mughlai, North Indian, Rolls, Biryani</td>\n",
       "      <td>₹1,500</td>\n",
       "      <td>12noon – 12midnight (Mon-Thu),12noon – 2am...</td>\n",
       "    </tr>\n",
       "    <tr>\n",
       "      <th>16</th>\n",
       "      <td>Food King</td>\n",
       "      <td>23 votes</td>\n",
       "      <td>3.3</td>\n",
       "      <td>90/1, Ground Floor, Muzaffar Ahmed Street, War...</td>\n",
       "      <td>Rolls</td>\n",
       "      <td>₹300</td>\n",
       "      <td>12noon – 11:30pm (Mon-Sun)</td>\n",
       "    </tr>\n",
       "    <tr>\n",
       "      <th>17</th>\n",
       "      <td>Burgrill</td>\n",
       "      <td>888 votes</td>\n",
       "      <td>4.2</td>\n",
       "      <td>12B/2, Park Street Park, Opposite Oxford Book ...</td>\n",
       "      <td>Rolls</td>\n",
       "      <td>₹500</td>\n",
       "      <td>11am – 2am (Mon-Sun)</td>\n",
       "    </tr>\n",
       "    <tr>\n",
       "      <th>18</th>\n",
       "      <td>Zainab Biryani</td>\n",
       "      <td>Cuisines:</td>\n",
       "      <td>NEW</td>\n",
       "      <td>19, Alimuddin Street, Park Street Area, Kolkata</td>\n",
       "      <td>Biryani, North Indian, Mughlai</td>\n",
       "      <td>₹400</td>\n",
       "      <td>11am – 11pm (Mon-Sun)</td>\n",
       "    </tr>\n",
       "    <tr>\n",
       "      <th>19</th>\n",
       "      <td>The Crepe Cafe</td>\n",
       "      <td>81 votes</td>\n",
       "      <td>4.4</td>\n",
       "      <td>6/1A, Middleton Street, Park Street Area, Kolkata</td>\n",
       "      <td>Biryani, North Indian, Mughlai</td>\n",
       "      <td>₹800</td>\n",
       "      <td>10:30am – 10:30pm (Mon-Sun)</td>\n",
       "    </tr>\n",
       "  </tbody>\n",
       "</table>\n",
       "</div>"
      ],
      "text/plain": [
       "                       name    voteCount rating  \\\n",
       "0                 Peter Cat  12404 votes    4.2   \n",
       "1        Naturals Ice Cream   2498 votes    4.9   \n",
       "2                Carpe Diem   4083 votes    4.4   \n",
       "3           Barbeque Nation   5455 votes    4.6   \n",
       "4                    Flurys   4709 votes    4.2   \n",
       "5                       KFC   2135 votes    4.1   \n",
       "6                 Tung Fong   3644 votes    4.3   \n",
       "7                   Arsalan   1500 votes    4.0   \n",
       "8               Kusum Rolls   1973 votes    4.1   \n",
       "9                  Kareem's   1027 votes    4.3   \n",
       "10               WOW! China     53 votes    3.8   \n",
       "11             Golden Spoon   1000 votes    3.6   \n",
       "12                    BarBQ   8321 votes    4.3   \n",
       "13        The Kebab Factory    Cuisines:    NEW   \n",
       "14  Patisserie By Franziska    Cuisines:    NaN   \n",
       "15          The Sixth Sense     92 votes    4.0   \n",
       "16                Food King     23 votes    3.3   \n",
       "17                 Burgrill    888 votes    4.2   \n",
       "18           Zainab Biryani    Cuisines:    NEW   \n",
       "19           The Crepe Cafe     81 votes    4.4   \n",
       "\n",
       "                                              address  \\\n",
       "0         18A, Park Street, Park Street Area, Kolkata   \n",
       "1   77/1/A, Ground Floor, Near West Bengal Board, ...   \n",
       "2                      18M, Park Street Area, Kolkata   \n",
       "3   1st Floor, 24, Park Center Building, Park Stre...   \n",
       "4        15, Apeejay House, Park Street Area, Kolkata   \n",
       "5         20K, Park Street, Park Street Area, Kolkata   \n",
       "6   25 B, Ground Floor, Karnani Mansion, Free Scho...   \n",
       "7   119 A, Muzaffar Ahmed Street, Mirza Ghalib Str...   \n",
       "8      21, Karnani Mansion, Park Street Area, Kolkata   \n",
       "9   55 B, Mirza Ghalib Street, Park Street Area, K...   \n",
       "10                   19-57, Park Street Area, Kolkata   \n",
       "11  1, Middleton Row, Near Loreto House, Park Stre...   \n",
       "12                43-47-55, Park Street Area, Kolkata   \n",
       "13         33, Royd Street, Park Street Area, Kolkata   \n",
       "14  13C, Russell Street, Opposite Bengal Club, Par...   \n",
       "15  25B, Karnani Mansion, Opposite Westside, Park ...   \n",
       "16  90/1, Ground Floor, Muzaffar Ahmed Street, War...   \n",
       "17  12B/2, Park Street Park, Opposite Oxford Book ...   \n",
       "18    19, Alimuddin Street, Park Street Area, Kolkata   \n",
       "19  6/1A, Middleton Street, Park Street Area, Kolkata   \n",
       "\n",
       "                                   cusine    cost  \\\n",
       "0               North Indian, Continental  ₹1,000   \n",
       "1               North Indian, Continental    ₹200   \n",
       "2                               Ice Cream  ₹1,000   \n",
       "3                               Ice Cream  ₹1,800   \n",
       "4      Chinese, North Indian, Continental    ₹400   \n",
       "5      Chinese, North Indian, Continental    ₹450   \n",
       "6       North Indian, Chinese, Kebab, BBQ  ₹1,000   \n",
       "7       North Indian, Chinese, Kebab, BBQ  ₹1,000   \n",
       "8              Bakery, Desserts, Sandwich    ₹300   \n",
       "9              Bakery, Desserts, Sandwich  ₹1,200   \n",
       "10                      Fast Food, Burger    ₹650   \n",
       "11                      Fast Food, Burger    ₹600   \n",
       "12                         Chinese, Asian  ₹1,200   \n",
       "13                         Chinese, Asian    ₹350   \n",
       "14  Mughlai, North Indian, Rolls, Biryani    ₹450   \n",
       "15  Mughlai, North Indian, Rolls, Biryani  ₹1,500   \n",
       "16                                  Rolls    ₹300   \n",
       "17                                  Rolls    ₹500   \n",
       "18         Biryani, North Indian, Mughlai    ₹400   \n",
       "19         Biryani, North Indian, Mughlai    ₹800   \n",
       "\n",
       "                                             timing  \n",
       "0                          11am – 11:20pm (Mon-Sun)  \n",
       "1                       11am – 12midnight (Mon-Sun)  \n",
       "2   12noon – 12midnight (Mon, Tue, Wed, Thu, Fri...  \n",
       "3       12noon – 3:30pm, 6:30pm – 10:45pm (Mon-Sun)  \n",
       "4                           7:30am – 11pm (Mon-Sun)  \n",
       "5                             11am – 11pm (Mon-Sun)  \n",
       "6                12noon – 4pm, 6pm – 11pm (Mon-Sun)  \n",
       "7                          11am – 11:45pm (Mon-Sun)  \n",
       "8                           12noon – 11pm (Mon-Sun)  \n",
       "9      12:30pm – 4:30pm, 6:30pm – 11:30pm (Mon-Sun)  \n",
       "10                          12noon – 11pm (Mon-Sun)  \n",
       "11                          12noon – 11pm (Mon-Sun)  \n",
       "12                       12noon – 11:15pm (Mon-Sun)  \n",
       "13                            11am – 11pm (Mon-Sun)  \n",
       "14                                              NaN  \n",
       "15    12noon – 12midnight (Mon-Thu),12noon – 2am...  \n",
       "16                       12noon – 11:30pm (Mon-Sun)  \n",
       "17                             11am – 2am (Mon-Sun)  \n",
       "18                            11am – 11pm (Mon-Sun)  \n",
       "19                      10:30am – 10:30pm (Mon-Sun)  "
      ]
     },
     "execution_count": 3,
     "metadata": {},
     "output_type": "execute_result"
    }
   ],
   "source": [
    "Data.head(20)"
   ]
  },
  {
   "cell_type": "code",
   "execution_count": 4,
   "id": "97756032",
   "metadata": {},
   "outputs": [
    {
     "data": {
      "text/plain": [
       "(7388, 7)"
      ]
     },
     "execution_count": 4,
     "metadata": {},
     "output_type": "execute_result"
    }
   ],
   "source": [
    "Data.shape"
   ]
  },
  {
   "cell_type": "code",
   "execution_count": 5,
   "id": "814dd226",
   "metadata": {},
   "outputs": [
    {
     "data": {
      "text/plain": [
       "Index(['name', 'voteCount', 'rating', 'address', 'cusine', 'cost', 'timing'], dtype='object')"
      ]
     },
     "execution_count": 5,
     "metadata": {},
     "output_type": "execute_result"
    }
   ],
   "source": [
    "Data.columns"
   ]
  },
  {
   "cell_type": "code",
   "execution_count": 6,
   "id": "f3140559",
   "metadata": {},
   "outputs": [
    {
     "name": "stdout",
     "output_type": "stream",
     "text": [
      "<class 'pandas.core.frame.DataFrame'>\n",
      "RangeIndex: 7388 entries, 0 to 7387\n",
      "Data columns (total 7 columns):\n",
      " #   Column     Non-Null Count  Dtype \n",
      "---  ------     --------------  ----- \n",
      " 0   name       7388 non-null   object\n",
      " 1   voteCount  7388 non-null   object\n",
      " 2   rating     7104 non-null   object\n",
      " 3   address    7387 non-null   object\n",
      " 4   cusine     7388 non-null   object\n",
      " 5   cost       7387 non-null   object\n",
      " 6   timing     7086 non-null   object\n",
      "dtypes: object(7)\n",
      "memory usage: 404.2+ KB\n"
     ]
    }
   ],
   "source": [
    "Data.info()"
   ]
  },
  {
   "cell_type": "code",
   "execution_count": 7,
   "id": "37c2fec9",
   "metadata": {},
   "outputs": [
    {
     "data": {
      "text/plain": [
       "name         0.00\n",
       "voteCount    0.00\n",
       "rating       3.84\n",
       "address      0.01\n",
       "cusine       0.00\n",
       "cost         0.01\n",
       "timing       4.09\n",
       "dtype: float64"
      ]
     },
     "execution_count": 7,
     "metadata": {},
     "output_type": "execute_result"
    }
   ],
   "source": [
    "round(100*(Data.isnull().sum()/len(Data.index)),2)"
   ]
  },
  {
   "cell_type": "code",
   "execution_count": 8,
   "id": "df59ccd2",
   "metadata": {},
   "outputs": [],
   "source": [
    "Data['cost'] = Data['cost'].str.replace('₹', '')\n",
    "Data['cost'] = Data['cost'].str.replace(',', '')"
   ]
  },
  {
   "cell_type": "code",
   "execution_count": 9,
   "id": "a51678ba",
   "metadata": {},
   "outputs": [],
   "source": [
    "Data['cost'] = pd.to_numeric(Data['cost'])"
   ]
  },
  {
   "cell_type": "code",
   "execution_count": 10,
   "id": "01cbed80",
   "metadata": {},
   "outputs": [],
   "source": [
    "Data['cost'] = Data['cost'].fillna(Data['cost'].mean())"
   ]
  },
  {
   "cell_type": "code",
   "execution_count": 11,
   "id": "d64e9489",
   "metadata": {},
   "outputs": [
    {
     "data": {
      "text/plain": [
       "name         0.00\n",
       "voteCount    0.00\n",
       "rating       3.84\n",
       "address      0.01\n",
       "cusine       0.00\n",
       "cost         0.00\n",
       "timing       4.09\n",
       "dtype: float64"
      ]
     },
     "execution_count": 11,
     "metadata": {},
     "output_type": "execute_result"
    }
   ],
   "source": [
    "round(100*(Data.isnull().sum()/len(Data.index)),2)"
   ]
  },
  {
   "cell_type": "code",
   "execution_count": 12,
   "id": "c5390b11",
   "metadata": {},
   "outputs": [
    {
     "data": {
      "text/plain": [
       "array(['4.2', '4.9', '4.4', '4.6', '4.1', '4.3', '4.0', '3.8', '3.6',\n",
       "       'NEW', nan, '3.3', '3.7', '3.9', '3.5', '3.2', '3.1', '3.0', '2.9',\n",
       "       '-', '3.4', '2.3', '4.5', '2.8', '4.7', '2.7', '2.6', '2.5', '2.1',\n",
       "       '4.8', '2.4', '2.2', '1.9', '2.0'], dtype=object)"
      ]
     },
     "execution_count": 12,
     "metadata": {},
     "output_type": "execute_result"
    }
   ],
   "source": [
    "Data['rating'].unique()"
   ]
  },
  {
   "cell_type": "code",
   "execution_count": 13,
   "id": "b1e8acaf",
   "metadata": {},
   "outputs": [],
   "source": [
    "Data['rating'] = Data['rating'].str.replace('NEW', '0')\n",
    "Data['rating'] = Data['rating'].str.replace('-', '0')\n",
    "Data['rating'] = Data['rating'].str.replace(' ', '0')"
   ]
  },
  {
   "cell_type": "code",
   "execution_count": 14,
   "id": "fccc02ac",
   "metadata": {},
   "outputs": [],
   "source": [
    "Data['rating'] = pd.to_numeric(Data['rating'])"
   ]
  },
  {
   "cell_type": "code",
   "execution_count": 15,
   "id": "33109329",
   "metadata": {},
   "outputs": [],
   "source": [
    "Data['rating'] = Data['rating'].fillna(Data['rating'].median())"
   ]
  },
  {
   "cell_type": "code",
   "execution_count": 16,
   "id": "340a2d95",
   "metadata": {},
   "outputs": [
    {
     "data": {
      "text/plain": [
       "name         0.00\n",
       "voteCount    0.00\n",
       "rating       0.00\n",
       "address      0.01\n",
       "cusine       0.00\n",
       "cost         0.00\n",
       "timing       4.09\n",
       "dtype: float64"
      ]
     },
     "execution_count": 16,
     "metadata": {},
     "output_type": "execute_result"
    }
   ],
   "source": [
    "round(100*(Data.isnull().sum()/len(Data.index)),2)"
   ]
  },
  {
   "cell_type": "code",
   "execution_count": 17,
   "id": "8a7cb20b",
   "metadata": {},
   "outputs": [
    {
     "name": "stdout",
     "output_type": "stream",
     "text": [
      "<class 'pandas.core.frame.DataFrame'>\n",
      "RangeIndex: 7388 entries, 0 to 7387\n",
      "Data columns (total 7 columns):\n",
      " #   Column     Non-Null Count  Dtype  \n",
      "---  ------     --------------  -----  \n",
      " 0   name       7388 non-null   object \n",
      " 1   voteCount  7388 non-null   object \n",
      " 2   rating     7388 non-null   float64\n",
      " 3   address    7387 non-null   object \n",
      " 4   cusine     7388 non-null   object \n",
      " 5   cost       7388 non-null   float64\n",
      " 6   timing     7086 non-null   object \n",
      "dtypes: float64(2), object(5)\n",
      "memory usage: 404.2+ KB\n"
     ]
    }
   ],
   "source": [
    "Data.info()"
   ]
  },
  {
   "cell_type": "code",
   "execution_count": 18,
   "id": "eed9c782",
   "metadata": {},
   "outputs": [
    {
     "data": {
      "text/plain": [
       "6926"
      ]
     },
     "execution_count": 18,
     "metadata": {},
     "output_type": "execute_result"
    }
   ],
   "source": [
    "Data['address'].nunique()"
   ]
  },
  {
   "cell_type": "code",
   "execution_count": 19,
   "id": "0fe4fffb",
   "metadata": {},
   "outputs": [],
   "source": [
    "Data['address'] = Data['address'].fillna(Data['address'].mode()[0])"
   ]
  },
  {
   "cell_type": "code",
   "execution_count": 20,
   "id": "7f17e2fe",
   "metadata": {},
   "outputs": [
    {
     "data": {
      "text/plain": [
       "name         0.00\n",
       "voteCount    0.00\n",
       "rating       0.00\n",
       "address      0.00\n",
       "cusine       0.00\n",
       "cost         0.00\n",
       "timing       4.09\n",
       "dtype: float64"
      ]
     },
     "execution_count": 20,
     "metadata": {},
     "output_type": "execute_result"
    }
   ],
   "source": [
    "round(100*(Data.isnull().sum()/len(Data.index)),2)"
   ]
  },
  {
   "cell_type": "code",
   "execution_count": 21,
   "id": "2704d9a4",
   "metadata": {},
   "outputs": [
    {
     "data": {
      "text/plain": [
       "array(['12404 votes', '2498 votes', '4083 votes', '5455 votes',\n",
       "       '4709 votes', '2135 votes', '3644 votes', '1500 votes',\n",
       "       '1973 votes', '1027 votes', '53 votes', '1000 votes', '8321 votes',\n",
       "       'Cuisines:', '92 votes', '23 votes', '888 votes', '81 votes',\n",
       "       '979 votes', '2552 votes', '1019 votes', '66 votes', '71 votes',\n",
       "       '341 votes', '505 votes', '45 votes', '816 votes', '1770 votes',\n",
       "       '99 votes', '801 votes', '80 votes', '21 votes', '676 votes',\n",
       "       '640 votes', '167 votes', '577 votes', '1465 votes', '366 votes',\n",
       "       '866 votes', '1137 votes', '355 votes', '78 votes', '34 votes',\n",
       "       '85 votes', '918 votes', '6 votes', '159 votes', '504 votes',\n",
       "       '1287 votes', '967 votes', '16 votes', '169 votes', '9 votes',\n",
       "       '51 votes', '321 votes', '124 votes', '411 votes', '67 votes',\n",
       "       '56 votes', '217 votes', '11 votes', '155 votes', '141 votes',\n",
       "       '386 votes', '10 votes', '5 votes', '89 votes', '7 votes',\n",
       "       '388 votes', '144 votes', '593 votes', '32 votes', '4 votes',\n",
       "       '35 votes', '79 votes', '18 votes', '13 votes', '52 votes',\n",
       "       '324 votes', '61 votes', '33 votes', '8 votes', '495 votes',\n",
       "       '43 votes', '30 votes', '50 votes', '17 votes', '332 votes',\n",
       "       '137 votes', '29 votes', '49 votes', '535 votes', '233 votes',\n",
       "       '76 votes', '1728 votes', '2305 votes', '2515 votes', '1837 votes',\n",
       "       '1169 votes', '1910 votes', '2010 votes', '1502 votes',\n",
       "       '2398 votes', '845 votes', '615 votes', '333 votes', '250 votes',\n",
       "       '173 votes', '1394 votes', '580 votes', '2423 votes', '1342 votes',\n",
       "       '964 votes', '1564 votes', '198 votes', '962 votes', '243 votes',\n",
       "       '3763 votes', '94 votes', '609 votes', '125 votes', '259 votes',\n",
       "       '501 votes', '3156 votes', '926 votes', '1096 votes', '1439 votes',\n",
       "       '1071 votes', '806 votes', '969 votes', '858 votes', '178 votes',\n",
       "       '44 votes', '686 votes', '973 votes', '440 votes', '232 votes',\n",
       "       '2727 votes', '683 votes', '1109 votes', '262 votes', '835 votes',\n",
       "       '104 votes', '47 votes', '1037 votes', '983 votes', '326 votes',\n",
       "       '168 votes', '86 votes', '39 votes', '274 votes', '728 votes',\n",
       "       '1186 votes', '24 votes', '323 votes', '284 votes', '483 votes',\n",
       "       '208 votes', '3203 votes', '645 votes', '162 votes', '234 votes',\n",
       "       '381 votes', '994 votes', '238 votes', '20 votes', '748 votes',\n",
       "       '413 votes', '1080 votes', '195 votes', '449 votes', '14 votes',\n",
       "       '399 votes', '1699 votes', '127 votes', '679 votes', '100 votes',\n",
       "       '1193 votes', '31 votes', '128 votes', '55 votes', '182 votes',\n",
       "       '583 votes', '12 votes', '73 votes', '616 votes', '574 votes',\n",
       "       '143 votes', '730 votes', '222 votes', '96 votes', '226 votes',\n",
       "       '184 votes', '467 votes', '19 votes', '75 votes', '133 votes',\n",
       "       '265 votes', '430 votes', '15 votes', '40 votes', '161 votes',\n",
       "       '105 votes', '249 votes', '93 votes', '424 votes', '46 votes',\n",
       "       '64 votes', '82 votes', '1128 votes', '1011 votes', '393 votes',\n",
       "       '887 votes', '148 votes', '171 votes', '257 votes', '352 votes',\n",
       "       '107 votes', '166 votes', '98 votes', '38 votes', '191 votes',\n",
       "       '585 votes', '72 votes', '308 votes', '518 votes', '129 votes',\n",
       "       '531 votes', '559 votes', '242 votes', '54 votes', '111 votes',\n",
       "       '177 votes', '213 votes', '1286 votes', '37 votes', '103 votes',\n",
       "       '28 votes', '83 votes', '90 votes', '263 votes', '241 votes',\n",
       "       '36 votes', '60 votes', '186 votes', '70 votes', '74 votes',\n",
       "       '304 votes', '282 votes', '340 votes', '135 votes', '299 votes',\n",
       "       '59 votes', '523 votes', '69 votes', '48 votes', '193 votes',\n",
       "       '484 votes', '183 votes', '22 votes', '214 votes', '68 votes',\n",
       "       '202 votes', '25 votes', '258 votes', '273 votes', '88 votes',\n",
       "       '216 votes', '235 votes', '26 votes', '2 votes', '455 votes',\n",
       "       '153 votes', '41 votes', '154 votes', '255 votes', '151 votes',\n",
       "       '121 votes', '91 votes', '349 votes', '42 votes', '63 votes',\n",
       "       '77 votes', '58 votes', '172 votes', '116 votes', '301 votes',\n",
       "       '145 votes', '290 votes', '27 votes', '84 votes', '113 votes',\n",
       "       '65 votes', '126 votes', '260 votes', '197 votes', '353 votes',\n",
       "       '724 votes', '520 votes', '164 votes', '371 votes', '112 votes',\n",
       "       '420 votes', '318 votes', '337 votes', '2170 votes', '955 votes',\n",
       "       '2432 votes', '1343 votes', '269 votes', '2512 votes',\n",
       "       '2734 votes', '2851 votes', '649 votes', '1030 votes', '431 votes',\n",
       "       '1236 votes', '815 votes', '1828 votes', '2028 votes', '375 votes',\n",
       "       '275 votes', '432 votes', '860 votes', '405 votes', '293 votes',\n",
       "       '311 votes', '345 votes', '357 votes', '146 votes', '739 votes',\n",
       "       '310 votes', '212 votes', '264 votes', '0 votes', '236 votes',\n",
       "       '542 votes', '239 votes', '203 votes', '62 votes', '196 votes',\n",
       "       '192 votes', '118 votes', '457 votes', '110 votes', '194 votes',\n",
       "       '720 votes', '211 votes', '204 votes', '394 votes', '1241 votes',\n",
       "       '4893 votes', '4662 votes', '1003 votes', '1922 votes',\n",
       "       '296 votes', '579 votes', '4623 votes', '1753 votes', '856 votes',\n",
       "       '1643 votes', '1433 votes', '2416 votes', '1471 votes',\n",
       "       '1428 votes', '2611 votes', '1419 votes', '4434 votes',\n",
       "       '3534 votes', '1967 votes', '1229 votes', '1097 votes',\n",
       "       '907 votes', '218 votes', '2792 votes', '354 votes', '2079 votes',\n",
       "       '778 votes', '1351 votes', '1902 votes', '3379 votes',\n",
       "       '1264 votes', '702 votes', '1955 votes', '2039 votes', '587 votes',\n",
       "       '673 votes', '1675 votes', '3750 votes', '3945 votes',\n",
       "       '2636 votes', '2346 votes', '2248 votes', '312 votes',\n",
       "       '2426 votes', '1108 votes', '465 votes', '2484 votes',\n",
       "       '2355 votes', '1501 votes', '119 votes', '2604 votes', '316 votes',\n",
       "       '3375 votes', '2007 votes', '1429 votes', '912 votes', '919 votes',\n",
       "       '160 votes', '109 votes', '555 votes', '3341 votes', '207 votes',\n",
       "       '512 votes', '622 votes', '206 votes', '658 votes', '201 votes',\n",
       "       '1495 votes', '1358 votes', '2492 votes', '458 votes', '840 votes',\n",
       "       '759 votes', '1398 votes', '540 votes', '1702 votes', '1580 votes',\n",
       "       '950 votes', '1877 votes', '1159 votes', '820 votes', '672 votes',\n",
       "       '509 votes', '712 votes', '1736 votes', '294 votes', '409 votes',\n",
       "       '659 votes', '163 votes', '2114 votes', '834 votes', '1586 votes',\n",
       "       '219 votes', '870 votes', '228 votes', '984 votes', '288 votes',\n",
       "       '2750 votes', '279 votes', '492 votes', '471 votes', '422 votes',\n",
       "       '254 votes', '879 votes', '305 votes', '138 votes', '272 votes',\n",
       "       '705 votes', '456 votes', '57 votes', '436 votes', '229 votes',\n",
       "       '578 votes', '514 votes', '115 votes', '1693 votes', '1612 votes',\n",
       "       '2723 votes', '131 votes', '223 votes', '466 votes', '1204 votes',\n",
       "       '502 votes', '599 votes', '867 votes', '101 votes', '266 votes',\n",
       "       '632 votes', '377 votes', '402 votes', '175 votes', '464 votes',\n",
       "       '707 votes', '247 votes', '397 votes', '929 votes', '149 votes',\n",
       "       '401 votes', '2811 votes', '224 votes', '189 votes', '755 votes',\n",
       "       '176 votes', '470 votes', '446 votes', '576 votes', '416 votes',\n",
       "       '784 votes', '454 votes', '453 votes', '837 votes', '385 votes',\n",
       "       '726 votes', '295 votes', '1391 votes', '185 votes', '1296 votes',\n",
       "       '528 votes', '898 votes', '307 votes', '289 votes', '899 votes',\n",
       "       '939 votes', '627 votes', '654 votes', '521 votes', '407 votes',\n",
       "       '200 votes', '157 votes', '379 votes', '187 votes', '1527 votes',\n",
       "       '190 votes', '230 votes', '339 votes', '619 votes', '370 votes',\n",
       "       '843 votes', '810 votes', '1208 votes', '415 votes', '132 votes',\n",
       "       '1040 votes', '482 votes', '237 votes', '477 votes', '142 votes',\n",
       "       '114 votes', '526 votes', '1410 votes', '643 votes', '691 votes',\n",
       "       '287 votes', '373 votes', '286 votes', '1058 votes', '798 votes',\n",
       "       '123 votes', '1424 votes', '368 votes', '97 votes', '489 votes',\n",
       "       '1354 votes', '1014 votes', '666 votes', '428 votes', '227 votes',\n",
       "       '548 votes', '325 votes', '248 votes', '253 votes', '525 votes',\n",
       "       '139 votes', '1919 votes', '285 votes', '278 votes', '106 votes',\n",
       "       '1129 votes', '336 votes', '569 votes', '136 votes', '317 votes',\n",
       "       '170 votes', '328 votes', '205 votes', '283 votes', '709 votes',\n",
       "       '612 votes', '620 votes', '516 votes', '244 votes', '3242 votes',\n",
       "       '433 votes', '557 votes', '800 votes', '134 votes', '87 votes',\n",
       "       '270 votes', '486 votes', '358 votes', '613 votes', '331 votes',\n",
       "       '102 votes', '681 votes', '359 votes', '805 votes', '181 votes',\n",
       "       '174 votes', '1212 votes', '626 votes', '472 votes', '240 votes',\n",
       "       '717 votes', '117 votes', '343 votes', '150 votes', '180 votes',\n",
       "       '423 votes', '408 votes', '156 votes', '404 votes', '122 votes',\n",
       "       '747 votes', '452 votes', '95 votes', '147 votes', '152 votes',\n",
       "       '674 votes', '372 votes', '158 votes', '511 votes', '417 votes',\n",
       "       '1638 votes', '280 votes', '251 votes', '347 votes', '108 votes',\n",
       "       '225 votes', '414 votes', '360 votes', '551 votes', '120 votes',\n",
       "       '261 votes', '188 votes', '469 votes', '1107 votes', '130 votes',\n",
       "       '335 votes', '140 votes', '546 votes', '268 votes', '781 votes',\n",
       "       '959 votes', '1042 votes', '494 votes', '2781 votes', '2321 votes',\n",
       "       '1050 votes', '2799 votes', '718 votes', '1531 votes', '604 votes',\n",
       "       '1681 votes', '365 votes', '2322 votes', '1088 votes', '610 votes',\n",
       "       '601 votes', '663 votes', '298 votes', '647 votes', '519 votes',\n",
       "       '660 votes', '561 votes', '391 votes', '510 votes', '1529 votes',\n",
       "       '313 votes', '803 votes', '1039 votes', '999 votes', '1299 votes',\n",
       "       '976 votes', '246 votes', '179 votes', '346 votes', '982 votes',\n",
       "       '327 votes', '367 votes', '716 votes', '329 votes', '271 votes',\n",
       "       '437 votes', '2094 votes', '306 votes', '592 votes', '297 votes',\n",
       "       '731 votes', '256 votes', '1104 votes', '496 votes', '644 votes',\n",
       "       '841 votes', '498 votes', '220 votes', '292 votes', '582 votes',\n",
       "       '768 votes', '527 votes', '209 votes', '356 votes', '363 votes',\n",
       "       '378 votes', '374 votes', '635 votes', '383 votes', '621 votes',\n",
       "       '693 votes', '396 votes', '320 votes', '221 votes', '823 votes',\n",
       "       '752 votes', '443 votes', '419 votes', '600 votes', '434 votes',\n",
       "       '442 votes', '608 votes', '334 votes', '554 votes', '392 votes',\n",
       "       '165 votes', '315 votes', '210 votes', '426 votes', '252 votes',\n",
       "       '369 votes', '389 votes', '1774 votes', '302 votes', '300 votes',\n",
       "       '474 votes', '338 votes', '342 votes', '499 votes', '387 votes',\n",
       "       '1401 votes', '900 votes', '400 votes', '892 votes', '571 votes'],\n",
       "      dtype=object)"
      ]
     },
     "execution_count": 21,
     "metadata": {},
     "output_type": "execute_result"
    }
   ],
   "source": [
    "Data['voteCount'].unique()"
   ]
  },
  {
   "cell_type": "code",
   "execution_count": 22,
   "id": "9840f947",
   "metadata": {},
   "outputs": [
    {
     "data": {
      "text/plain": [
       "name         0\n",
       "voteCount    0\n",
       "rating       0\n",
       "address      0\n",
       "cusine       0\n",
       "cost         0\n",
       "timing       0\n",
       "dtype: int64"
      ]
     },
     "execution_count": 22,
     "metadata": {},
     "output_type": "execute_result"
    }
   ],
   "source": [
    "duplicate = Data[Data.duplicated()]\n",
    "duplicate.count()"
   ]
  },
  {
   "cell_type": "code",
   "execution_count": 23,
   "id": "781a669f",
   "metadata": {},
   "outputs": [
    {
     "name": "stdout",
     "output_type": "stream",
     "text": [
      "<class 'pandas.core.frame.DataFrame'>\n",
      "RangeIndex: 7388 entries, 0 to 7387\n",
      "Data columns (total 7 columns):\n",
      " #   Column     Non-Null Count  Dtype  \n",
      "---  ------     --------------  -----  \n",
      " 0   name       7388 non-null   object \n",
      " 1   voteCount  7388 non-null   object \n",
      " 2   rating     7388 non-null   float64\n",
      " 3   address    7388 non-null   object \n",
      " 4   cusine     7388 non-null   object \n",
      " 5   cost       7388 non-null   float64\n",
      " 6   timing     7086 non-null   object \n",
      "dtypes: float64(2), object(5)\n",
      "memory usage: 404.2+ KB\n"
     ]
    }
   ],
   "source": [
    "Data.info()"
   ]
  },
  {
   "cell_type": "code",
   "execution_count": 24,
   "id": "aa4e4aa8",
   "metadata": {},
   "outputs": [
    {
     "data": {
      "text/plain": [
       "0                                                 Chinese\n",
       "1                                   North Indian, Chinese\n",
       "2                                                  Mishti\n",
       "3                                            North Indian\n",
       "4                                               Fast Food\n",
       "                              ...                        \n",
       "1092                      Cafe, Continental, Tea, Italian\n",
       "1093                              Rolls, Bengali, Chinese\n",
       "1094                         Chinese, North Indian, Kebab\n",
       "1095                   Momos, Sandwich, Burger, Fast Food\n",
       "1096    Healthy Food, Salad, Continental, North Indian...\n",
       "Name: cusine, Length: 1097, dtype: object"
      ]
     },
     "execution_count": 24,
     "metadata": {},
     "output_type": "execute_result"
    }
   ],
   "source": [
    "restaurant_count=pd.DataFrame(Data['cusine'].value_counts().sort_values(ascending=False))\n",
    "restaurant_count.rename(columns = {'cusine':'Count'},inplace=True)\n",
    "restaurant_count.index.rename('cusine',inplace=True)\n",
    "restaurant_count.reset_index(inplace=True)\n",
    "restaurant_count['cusine']"
   ]
  },
  {
   "cell_type": "code",
   "execution_count": 25,
   "id": "0a46dff5",
   "metadata": {},
   "outputs": [
    {
     "data": {
      "text/html": [
       "<div>\n",
       "<style scoped>\n",
       "    .dataframe tbody tr th:only-of-type {\n",
       "        vertical-align: middle;\n",
       "    }\n",
       "\n",
       "    .dataframe tbody tr th {\n",
       "        vertical-align: top;\n",
       "    }\n",
       "\n",
       "    .dataframe thead th {\n",
       "        text-align: right;\n",
       "    }\n",
       "</style>\n",
       "<table border=\"1\" class=\"dataframe\">\n",
       "  <thead>\n",
       "    <tr style=\"text-align: right;\">\n",
       "      <th></th>\n",
       "      <th>cusine</th>\n",
       "      <th>Count</th>\n",
       "    </tr>\n",
       "  </thead>\n",
       "  <tbody>\n",
       "    <tr>\n",
       "      <th>0</th>\n",
       "      <td>Chinese</td>\n",
       "      <td>346</td>\n",
       "    </tr>\n",
       "    <tr>\n",
       "      <th>1</th>\n",
       "      <td>North Indian, Chinese</td>\n",
       "      <td>332</td>\n",
       "    </tr>\n",
       "    <tr>\n",
       "      <th>2</th>\n",
       "      <td>Mishti</td>\n",
       "      <td>320</td>\n",
       "    </tr>\n",
       "    <tr>\n",
       "      <th>3</th>\n",
       "      <td>North Indian</td>\n",
       "      <td>298</td>\n",
       "    </tr>\n",
       "    <tr>\n",
       "      <th>4</th>\n",
       "      <td>Fast Food</td>\n",
       "      <td>294</td>\n",
       "    </tr>\n",
       "  </tbody>\n",
       "</table>\n",
       "</div>"
      ],
      "text/plain": [
       "                  cusine  Count\n",
       "0                Chinese    346\n",
       "1  North Indian, Chinese    332\n",
       "2                 Mishti    320\n",
       "3           North Indian    298\n",
       "4              Fast Food    294"
      ]
     },
     "execution_count": 25,
     "metadata": {},
     "output_type": "execute_result"
    }
   ],
   "source": [
    "restaurant_count.head()"
   ]
  },
  {
   "cell_type": "code",
   "execution_count": 26,
   "id": "8b93bea6",
   "metadata": {},
   "outputs": [],
   "source": [
    "split_data = restaurant_count['cusine'].str.split(\",\")\n",
    "data = split_data.to_list()\n",
    "names = ['cusine1','cusine2','cusine3','cusine4','cusine5','cusine6','cusine7','cusine8']\n",
    "restaurant_count = pd.DataFrame(data, columns=names)"
   ]
  },
  {
   "cell_type": "code",
   "execution_count": 27,
   "id": "d4e39a04",
   "metadata": {},
   "outputs": [
    {
     "data": {
      "text/html": [
       "<div>\n",
       "<style scoped>\n",
       "    .dataframe tbody tr th:only-of-type {\n",
       "        vertical-align: middle;\n",
       "    }\n",
       "\n",
       "    .dataframe tbody tr th {\n",
       "        vertical-align: top;\n",
       "    }\n",
       "\n",
       "    .dataframe thead th {\n",
       "        text-align: right;\n",
       "    }\n",
       "</style>\n",
       "<table border=\"1\" class=\"dataframe\">\n",
       "  <thead>\n",
       "    <tr style=\"text-align: right;\">\n",
       "      <th></th>\n",
       "      <th>Cuisines</th>\n",
       "      <th>Count</th>\n",
       "    </tr>\n",
       "  </thead>\n",
       "  <tbody>\n",
       "    <tr>\n",
       "      <th>0</th>\n",
       "      <td>North Indian</td>\n",
       "      <td>207</td>\n",
       "    </tr>\n",
       "    <tr>\n",
       "      <th>1</th>\n",
       "      <td>Chinese</td>\n",
       "      <td>200</td>\n",
       "    </tr>\n",
       "    <tr>\n",
       "      <th>2</th>\n",
       "      <td>Fast Food</td>\n",
       "      <td>87</td>\n",
       "    </tr>\n",
       "    <tr>\n",
       "      <th>3</th>\n",
       "      <td>Cafe</td>\n",
       "      <td>74</td>\n",
       "    </tr>\n",
       "    <tr>\n",
       "      <th>4</th>\n",
       "      <td>Biryani</td>\n",
       "      <td>63</td>\n",
       "    </tr>\n",
       "  </tbody>\n",
       "</table>\n",
       "</div>"
      ],
      "text/plain": [
       "       Cuisines  Count\n",
       "0  North Indian    207\n",
       "1       Chinese    200\n",
       "2     Fast Food     87\n",
       "3          Cafe     74\n",
       "4       Biryani     63"
      ]
     },
     "execution_count": 27,
     "metadata": {},
     "output_type": "execute_result"
    }
   ],
   "source": [
    "unique_cuisines = restaurant_count['cusine1'].value_counts()\n",
    "unique_cuisines\n",
    "for col in names[:1]:\n",
    "    unique_cuisines = unique_cuisines.append(restaurant_count[col].value_counts().sort_values(ascending=False))\n",
    "unique_cuisines = pd.DataFrame(unique_cuisines)\n",
    "unique_cuisines.rename(columns = {'cusine1':'Count'},inplace=True)\n",
    "unique_cuisines.index.rename('Cuisines',inplace=True)\n",
    "unique_cuisines.reset_index(inplace=True)\n",
    "unique_cuisines.head()"
   ]
  },
  {
   "cell_type": "code",
   "execution_count": 38,
   "id": "7f4fd2d8",
   "metadata": {},
   "outputs": [
    {
     "data": {
      "text/html": [
       "<div>\n",
       "<style scoped>\n",
       "    .dataframe tbody tr th:only-of-type {\n",
       "        vertical-align: middle;\n",
       "    }\n",
       "\n",
       "    .dataframe tbody tr th {\n",
       "        vertical-align: top;\n",
       "    }\n",
       "\n",
       "    .dataframe thead th {\n",
       "        text-align: right;\n",
       "    }\n",
       "</style>\n",
       "<table border=\"1\" class=\"dataframe\">\n",
       "  <thead>\n",
       "    <tr style=\"text-align: right;\">\n",
       "      <th></th>\n",
       "      <th>Cuisines</th>\n",
       "      <th>Count</th>\n",
       "    </tr>\n",
       "  </thead>\n",
       "  <tbody>\n",
       "    <tr>\n",
       "      <th>0</th>\n",
       "      <td>North Indian</td>\n",
       "      <td>207</td>\n",
       "    </tr>\n",
       "    <tr>\n",
       "      <th>1</th>\n",
       "      <td>Chinese</td>\n",
       "      <td>200</td>\n",
       "    </tr>\n",
       "    <tr>\n",
       "      <th>2</th>\n",
       "      <td>Fast Food</td>\n",
       "      <td>87</td>\n",
       "    </tr>\n",
       "    <tr>\n",
       "      <th>3</th>\n",
       "      <td>Cafe</td>\n",
       "      <td>74</td>\n",
       "    </tr>\n",
       "    <tr>\n",
       "      <th>4</th>\n",
       "      <td>Biryani</td>\n",
       "      <td>63</td>\n",
       "    </tr>\n",
       "  </tbody>\n",
       "</table>\n",
       "</div>"
      ],
      "text/plain": [
       "       Cuisines  Count\n",
       "0  North Indian    207\n",
       "1       Chinese    200\n",
       "2     Fast Food     87\n",
       "3          Cafe     74\n",
       "4       Biryani     63"
      ]
     },
     "execution_count": 38,
     "metadata": {},
     "output_type": "execute_result"
    }
   ],
   "source": [
    "unique_cuisines.head()"
   ]
  },
  {
   "cell_type": "code",
   "execution_count": 34,
   "id": "7bbcc907",
   "metadata": {},
   "outputs": [],
   "source": [
    "popular_cuisines = unique_cuisines[unique_cuisines['Count']>50]"
   ]
  },
  {
   "cell_type": "code",
   "execution_count": 72,
   "id": "4547912b",
   "metadata": {},
   "outputs": [
    {
     "data": {
      "text/html": [
       "<div>\n",
       "<style scoped>\n",
       "    .dataframe tbody tr th:only-of-type {\n",
       "        vertical-align: middle;\n",
       "    }\n",
       "\n",
       "    .dataframe tbody tr th {\n",
       "        vertical-align: top;\n",
       "    }\n",
       "\n",
       "    .dataframe thead th {\n",
       "        text-align: right;\n",
       "    }\n",
       "</style>\n",
       "<table border=\"1\" class=\"dataframe\">\n",
       "  <thead>\n",
       "    <tr style=\"text-align: right;\">\n",
       "      <th></th>\n",
       "      <th>Cuisines</th>\n",
       "      <th>Count</th>\n",
       "    </tr>\n",
       "  </thead>\n",
       "  <tbody>\n",
       "    <tr>\n",
       "      <th>0</th>\n",
       "      <td>North Indian</td>\n",
       "      <td>207</td>\n",
       "    </tr>\n",
       "    <tr>\n",
       "      <th>1</th>\n",
       "      <td>Chinese</td>\n",
       "      <td>200</td>\n",
       "    </tr>\n",
       "    <tr>\n",
       "      <th>2</th>\n",
       "      <td>Fast Food</td>\n",
       "      <td>87</td>\n",
       "    </tr>\n",
       "    <tr>\n",
       "      <th>3</th>\n",
       "      <td>Cafe</td>\n",
       "      <td>74</td>\n",
       "    </tr>\n",
       "    <tr>\n",
       "      <th>4</th>\n",
       "      <td>Biryani</td>\n",
       "      <td>63</td>\n",
       "    </tr>\n",
       "    <tr>\n",
       "      <th>5</th>\n",
       "      <td>Bengali</td>\n",
       "      <td>55</td>\n",
       "    </tr>\n",
       "    <tr>\n",
       "      <th>58</th>\n",
       "      <td>North Indian</td>\n",
       "      <td>207</td>\n",
       "    </tr>\n",
       "    <tr>\n",
       "      <th>59</th>\n",
       "      <td>Chinese</td>\n",
       "      <td>200</td>\n",
       "    </tr>\n",
       "    <tr>\n",
       "      <th>60</th>\n",
       "      <td>Fast Food</td>\n",
       "      <td>87</td>\n",
       "    </tr>\n",
       "    <tr>\n",
       "      <th>61</th>\n",
       "      <td>Cafe</td>\n",
       "      <td>74</td>\n",
       "    </tr>\n",
       "    <tr>\n",
       "      <th>62</th>\n",
       "      <td>Biryani</td>\n",
       "      <td>63</td>\n",
       "    </tr>\n",
       "    <tr>\n",
       "      <th>63</th>\n",
       "      <td>Bengali</td>\n",
       "      <td>55</td>\n",
       "    </tr>\n",
       "  </tbody>\n",
       "</table>\n",
       "</div>"
      ],
      "text/plain": [
       "        Cuisines  Count\n",
       "0   North Indian    207\n",
       "1        Chinese    200\n",
       "2      Fast Food     87\n",
       "3           Cafe     74\n",
       "4        Biryani     63\n",
       "5        Bengali     55\n",
       "58  North Indian    207\n",
       "59       Chinese    200\n",
       "60     Fast Food     87\n",
       "61          Cafe     74\n",
       "62       Biryani     63\n",
       "63       Bengali     55"
      ]
     },
     "execution_count": 72,
     "metadata": {},
     "output_type": "execute_result"
    }
   ],
   "source": [
    "popular_cuisines"
   ]
  },
  {
   "cell_type": "code",
   "execution_count": 41,
   "id": "f322dc41",
   "metadata": {},
   "outputs": [],
   "source": [
    "Data['voteCount'].replace('Cuisines:','0',inplace=True)\n",
    "Data['voteCount']= Data['voteCount'].apply(lambda x: x.split(' ')[0])"
   ]
  },
  {
   "cell_type": "code",
   "execution_count": 42,
   "id": "f30d3825",
   "metadata": {},
   "outputs": [
    {
     "data": {
      "text/html": [
       "<div>\n",
       "<style scoped>\n",
       "    .dataframe tbody tr th:only-of-type {\n",
       "        vertical-align: middle;\n",
       "    }\n",
       "\n",
       "    .dataframe tbody tr th {\n",
       "        vertical-align: top;\n",
       "    }\n",
       "\n",
       "    .dataframe thead th {\n",
       "        text-align: right;\n",
       "    }\n",
       "</style>\n",
       "<table border=\"1\" class=\"dataframe\">\n",
       "  <thead>\n",
       "    <tr style=\"text-align: right;\">\n",
       "      <th></th>\n",
       "      <th>name</th>\n",
       "      <th>voteCount</th>\n",
       "      <th>rating</th>\n",
       "      <th>address</th>\n",
       "      <th>cusine</th>\n",
       "      <th>cost</th>\n",
       "      <th>timing</th>\n",
       "    </tr>\n",
       "  </thead>\n",
       "  <tbody>\n",
       "    <tr>\n",
       "      <th>0</th>\n",
       "      <td>Peter Cat</td>\n",
       "      <td>12404</td>\n",
       "      <td>4.2</td>\n",
       "      <td>18A, Park Street, Park Street Area, Kolkata</td>\n",
       "      <td>North Indian, Continental</td>\n",
       "      <td>1000.0</td>\n",
       "      <td>11am – 11:20pm (Mon-Sun)</td>\n",
       "    </tr>\n",
       "    <tr>\n",
       "      <th>1</th>\n",
       "      <td>Naturals Ice Cream</td>\n",
       "      <td>2498</td>\n",
       "      <td>4.9</td>\n",
       "      <td>77/1/A, Ground Floor, Near West Bengal Board, ...</td>\n",
       "      <td>North Indian, Continental</td>\n",
       "      <td>200.0</td>\n",
       "      <td>11am – 12midnight (Mon-Sun)</td>\n",
       "    </tr>\n",
       "    <tr>\n",
       "      <th>2</th>\n",
       "      <td>Carpe Diem</td>\n",
       "      <td>4083</td>\n",
       "      <td>4.4</td>\n",
       "      <td>18M, Park Street Area, Kolkata</td>\n",
       "      <td>Ice Cream</td>\n",
       "      <td>1000.0</td>\n",
       "      <td>12noon – 12midnight (Mon, Tue, Wed, Thu, Fri...</td>\n",
       "    </tr>\n",
       "    <tr>\n",
       "      <th>3</th>\n",
       "      <td>Barbeque Nation</td>\n",
       "      <td>5455</td>\n",
       "      <td>4.6</td>\n",
       "      <td>1st Floor, 24, Park Center Building, Park Stre...</td>\n",
       "      <td>Ice Cream</td>\n",
       "      <td>1800.0</td>\n",
       "      <td>12noon – 3:30pm, 6:30pm – 10:45pm (Mon-Sun)</td>\n",
       "    </tr>\n",
       "    <tr>\n",
       "      <th>4</th>\n",
       "      <td>Flurys</td>\n",
       "      <td>4709</td>\n",
       "      <td>4.2</td>\n",
       "      <td>15, Apeejay House, Park Street Area, Kolkata</td>\n",
       "      <td>Chinese, North Indian, Continental</td>\n",
       "      <td>400.0</td>\n",
       "      <td>7:30am – 11pm (Mon-Sun)</td>\n",
       "    </tr>\n",
       "  </tbody>\n",
       "</table>\n",
       "</div>"
      ],
      "text/plain": [
       "                 name voteCount  rating  \\\n",
       "0           Peter Cat     12404     4.2   \n",
       "1  Naturals Ice Cream      2498     4.9   \n",
       "2          Carpe Diem      4083     4.4   \n",
       "3     Barbeque Nation      5455     4.6   \n",
       "4              Flurys      4709     4.2   \n",
       "\n",
       "                                             address  \\\n",
       "0        18A, Park Street, Park Street Area, Kolkata   \n",
       "1  77/1/A, Ground Floor, Near West Bengal Board, ...   \n",
       "2                     18M, Park Street Area, Kolkata   \n",
       "3  1st Floor, 24, Park Center Building, Park Stre...   \n",
       "4       15, Apeejay House, Park Street Area, Kolkata   \n",
       "\n",
       "                               cusine    cost  \\\n",
       "0           North Indian, Continental  1000.0   \n",
       "1           North Indian, Continental   200.0   \n",
       "2                           Ice Cream  1000.0   \n",
       "3                           Ice Cream  1800.0   \n",
       "4  Chinese, North Indian, Continental   400.0   \n",
       "\n",
       "                                            timing  \n",
       "0                         11am – 11:20pm (Mon-Sun)  \n",
       "1                      11am – 12midnight (Mon-Sun)  \n",
       "2  12noon – 12midnight (Mon, Tue, Wed, Thu, Fri...  \n",
       "3      12noon – 3:30pm, 6:30pm – 10:45pm (Mon-Sun)  \n",
       "4                          7:30am – 11pm (Mon-Sun)  "
      ]
     },
     "execution_count": 42,
     "metadata": {},
     "output_type": "execute_result"
    }
   ],
   "source": [
    "Data.head()"
   ]
  },
  {
   "cell_type": "code",
   "execution_count": 43,
   "id": "cf1d07fa",
   "metadata": {},
   "outputs": [
    {
     "name": "stdout",
     "output_type": "stream",
     "text": [
      "<class 'pandas.core.frame.DataFrame'>\n",
      "RangeIndex: 7388 entries, 0 to 7387\n",
      "Data columns (total 7 columns):\n",
      " #   Column     Non-Null Count  Dtype  \n",
      "---  ------     --------------  -----  \n",
      " 0   name       7388 non-null   object \n",
      " 1   voteCount  7388 non-null   object \n",
      " 2   rating     7388 non-null   float64\n",
      " 3   address    7388 non-null   object \n",
      " 4   cusine     7388 non-null   object \n",
      " 5   cost       7388 non-null   float64\n",
      " 6   timing     7086 non-null   object \n",
      "dtypes: float64(2), object(5)\n",
      "memory usage: 404.2+ KB\n"
     ]
    }
   ],
   "source": [
    "Data.info()"
   ]
  },
  {
   "cell_type": "code",
   "execution_count": 50,
   "id": "a9f46c6d",
   "metadata": {},
   "outputs": [
    {
     "data": {
      "text/plain": [
       "name         0.00\n",
       "voteCount    0.00\n",
       "rating       0.00\n",
       "address      0.00\n",
       "cusine       0.00\n",
       "cost         0.00\n",
       "timing       4.09\n",
       "dtype: float64"
      ]
     },
     "execution_count": 50,
     "metadata": {},
     "output_type": "execute_result"
    }
   ],
   "source": [
    "round(100*(Data.isnull().sum()/len(Data.index)),2)"
   ]
  },
  {
   "cell_type": "code",
   "execution_count": 51,
   "id": "38c51d12",
   "metadata": {},
   "outputs": [],
   "source": [
    "Data['voteCount'] = pd.to_numeric(Data['voteCount'])"
   ]
  },
  {
   "cell_type": "code",
   "execution_count": 52,
   "id": "3aec5154",
   "metadata": {},
   "outputs": [
    {
     "name": "stdout",
     "output_type": "stream",
     "text": [
      "<class 'pandas.core.frame.DataFrame'>\n",
      "RangeIndex: 7388 entries, 0 to 7387\n",
      "Data columns (total 7 columns):\n",
      " #   Column     Non-Null Count  Dtype  \n",
      "---  ------     --------------  -----  \n",
      " 0   name       7388 non-null   object \n",
      " 1   voteCount  7388 non-null   int64  \n",
      " 2   rating     7388 non-null   float64\n",
      " 3   address    7388 non-null   object \n",
      " 4   cusine     7388 non-null   object \n",
      " 5   cost       7388 non-null   float64\n",
      " 6   timing     7086 non-null   object \n",
      "dtypes: float64(2), int64(1), object(4)\n",
      "memory usage: 404.2+ KB\n"
     ]
    }
   ],
   "source": [
    "Data.info()"
   ]
  },
  {
   "cell_type": "code",
   "execution_count": 56,
   "id": "e8f901bc",
   "metadata": {},
   "outputs": [
    {
     "data": {
      "text/plain": [
       "count    7388.000000\n",
       "mean      373.263707\n",
       "std       296.051164\n",
       "min       100.000000\n",
       "25%       200.000000\n",
       "50%       300.000000\n",
       "75%       450.000000\n",
       "max      4500.000000\n",
       "Name: cost, dtype: float64"
      ]
     },
     "execution_count": 56,
     "metadata": {},
     "output_type": "execute_result"
    }
   ],
   "source": [
    "Data['cost'].describe()"
   ]
  },
  {
   "cell_type": "code",
   "execution_count": 57,
   "id": "8786a6eb",
   "metadata": {},
   "outputs": [],
   "source": [
    "Data['timing'] = Data['timing'].fillna(Data['timing'].mode()[0])"
   ]
  },
  {
   "cell_type": "code",
   "execution_count": 58,
   "id": "3f395884",
   "metadata": {},
   "outputs": [
    {
     "data": {
      "text/plain": [
       "name         0.0\n",
       "voteCount    0.0\n",
       "rating       0.0\n",
       "address      0.0\n",
       "cusine       0.0\n",
       "cost         0.0\n",
       "timing       0.0\n",
       "dtype: float64"
      ]
     },
     "execution_count": 58,
     "metadata": {},
     "output_type": "execute_result"
    }
   ],
   "source": [
    "round(100*(Data.isnull().sum()/len(Data.index)),2)"
   ]
  },
  {
   "cell_type": "code",
   "execution_count": 59,
   "id": "d6c52ab7",
   "metadata": {},
   "outputs": [
    {
     "name": "stdout",
     "output_type": "stream",
     "text": [
      "<class 'pandas.core.frame.DataFrame'>\n",
      "RangeIndex: 7388 entries, 0 to 7387\n",
      "Data columns (total 7 columns):\n",
      " #   Column     Non-Null Count  Dtype  \n",
      "---  ------     --------------  -----  \n",
      " 0   name       7388 non-null   object \n",
      " 1   voteCount  7388 non-null   int64  \n",
      " 2   rating     7388 non-null   float64\n",
      " 3   address    7388 non-null   object \n",
      " 4   cusine     7388 non-null   object \n",
      " 5   cost       7388 non-null   float64\n",
      " 6   timing     7388 non-null   object \n",
      "dtypes: float64(2), int64(1), object(4)\n",
      "memory usage: 404.2+ KB\n"
     ]
    }
   ],
   "source": [
    "Data.info()"
   ]
  },
  {
   "cell_type": "code",
   "execution_count": 60,
   "id": "8f99c9d5",
   "metadata": {},
   "outputs": [],
   "source": [
    "high_end_restos = Data[Data['cost']>=450]\n",
    "cheap_restos = Data[Data['cost']<=200]"
   ]
  },
  {
   "cell_type": "code",
   "execution_count": 61,
   "id": "711eef8e",
   "metadata": {},
   "outputs": [
    {
     "data": {
      "text/html": [
       "<div>\n",
       "<style scoped>\n",
       "    .dataframe tbody tr th:only-of-type {\n",
       "        vertical-align: middle;\n",
       "    }\n",
       "\n",
       "    .dataframe tbody tr th {\n",
       "        vertical-align: top;\n",
       "    }\n",
       "\n",
       "    .dataframe thead th {\n",
       "        text-align: right;\n",
       "    }\n",
       "</style>\n",
       "<table border=\"1\" class=\"dataframe\">\n",
       "  <thead>\n",
       "    <tr style=\"text-align: right;\">\n",
       "      <th></th>\n",
       "      <th>name</th>\n",
       "      <th>voteCount</th>\n",
       "      <th>rating</th>\n",
       "      <th>address</th>\n",
       "      <th>cusine</th>\n",
       "      <th>cost</th>\n",
       "      <th>timing</th>\n",
       "    </tr>\n",
       "  </thead>\n",
       "  <tbody>\n",
       "    <tr>\n",
       "      <th>0</th>\n",
       "      <td>Peter Cat</td>\n",
       "      <td>12404</td>\n",
       "      <td>4.2</td>\n",
       "      <td>18A, Park Street, Park Street Area, Kolkata</td>\n",
       "      <td>North Indian, Continental</td>\n",
       "      <td>1000.0</td>\n",
       "      <td>11am – 11:20pm (Mon-Sun)</td>\n",
       "    </tr>\n",
       "    <tr>\n",
       "      <th>2</th>\n",
       "      <td>Carpe Diem</td>\n",
       "      <td>4083</td>\n",
       "      <td>4.4</td>\n",
       "      <td>18M, Park Street Area, Kolkata</td>\n",
       "      <td>Ice Cream</td>\n",
       "      <td>1000.0</td>\n",
       "      <td>12noon – 12midnight (Mon, Tue, Wed, Thu, Fri...</td>\n",
       "    </tr>\n",
       "    <tr>\n",
       "      <th>3</th>\n",
       "      <td>Barbeque Nation</td>\n",
       "      <td>5455</td>\n",
       "      <td>4.6</td>\n",
       "      <td>1st Floor, 24, Park Center Building, Park Stre...</td>\n",
       "      <td>Ice Cream</td>\n",
       "      <td>1800.0</td>\n",
       "      <td>12noon – 3:30pm, 6:30pm – 10:45pm (Mon-Sun)</td>\n",
       "    </tr>\n",
       "    <tr>\n",
       "      <th>5</th>\n",
       "      <td>KFC</td>\n",
       "      <td>2135</td>\n",
       "      <td>4.1</td>\n",
       "      <td>20K, Park Street, Park Street Area, Kolkata</td>\n",
       "      <td>Chinese, North Indian, Continental</td>\n",
       "      <td>450.0</td>\n",
       "      <td>11am – 11pm (Mon-Sun)</td>\n",
       "    </tr>\n",
       "    <tr>\n",
       "      <th>6</th>\n",
       "      <td>Tung Fong</td>\n",
       "      <td>3644</td>\n",
       "      <td>4.3</td>\n",
       "      <td>25 B, Ground Floor, Karnani Mansion, Free Scho...</td>\n",
       "      <td>North Indian, Chinese, Kebab, BBQ</td>\n",
       "      <td>1000.0</td>\n",
       "      <td>12noon – 4pm, 6pm – 11pm (Mon-Sun)</td>\n",
       "    </tr>\n",
       "    <tr>\n",
       "      <th>...</th>\n",
       "      <td>...</td>\n",
       "      <td>...</td>\n",
       "      <td>...</td>\n",
       "      <td>...</td>\n",
       "      <td>...</td>\n",
       "      <td>...</td>\n",
       "      <td>...</td>\n",
       "    </tr>\n",
       "    <tr>\n",
       "      <th>7345</th>\n",
       "      <td>Jyotirbina Hotel And Restaurant</td>\n",
       "      <td>0</td>\n",
       "      <td>0.0</td>\n",
       "      <td>Delivery Only</td>\n",
       "      <td>North Indian</td>\n",
       "      <td>500.0</td>\n",
       "      <td>10am – 11pm (Mon-Sun)</td>\n",
       "    </tr>\n",
       "    <tr>\n",
       "      <th>7346</th>\n",
       "      <td>Cafe Soy</td>\n",
       "      <td>0</td>\n",
       "      <td>3.2</td>\n",
       "      <td>Shop 31, C Block, Downtown Mall, Uniworld City...</td>\n",
       "      <td>Fast Food</td>\n",
       "      <td>800.0</td>\n",
       "      <td>11am – 11pm (Mon-Sun)</td>\n",
       "    </tr>\n",
       "    <tr>\n",
       "      <th>7368</th>\n",
       "      <td>Michel Nagar Dhaba</td>\n",
       "      <td>0</td>\n",
       "      <td>0.0</td>\n",
       "      <td>National Highway 34, Madhyamgram Municipality ...</td>\n",
       "      <td>Sandwich, Fast Food</td>\n",
       "      <td>450.0</td>\n",
       "      <td>24 Hours (Mon-Sun)</td>\n",
       "    </tr>\n",
       "    <tr>\n",
       "      <th>7370</th>\n",
       "      <td>Perfect 10</td>\n",
       "      <td>0</td>\n",
       "      <td>0.0</td>\n",
       "      <td>21D, Anupama Phase 1, Arjunpur, Kaikhali, Kolkata</td>\n",
       "      <td>South Indian</td>\n",
       "      <td>700.0</td>\n",
       "      <td>11am – 11pm (Mon-Sun)</td>\n",
       "    </tr>\n",
       "    <tr>\n",
       "      <th>7373</th>\n",
       "      <td>Rasana Tripti</td>\n",
       "      <td>0</td>\n",
       "      <td>3.2</td>\n",
       "      <td>12, Mahesh Colony, Nistarini Super Market, She...</td>\n",
       "      <td>Fast Food</td>\n",
       "      <td>500.0</td>\n",
       "      <td>11am – 11pm (Mon-Sun)</td>\n",
       "    </tr>\n",
       "  </tbody>\n",
       "</table>\n",
       "<p>1896 rows × 7 columns</p>\n",
       "</div>"
      ],
      "text/plain": [
       "                                 name  voteCount  rating  \\\n",
       "0                           Peter Cat      12404     4.2   \n",
       "2                          Carpe Diem       4083     4.4   \n",
       "3                     Barbeque Nation       5455     4.6   \n",
       "5                                 KFC       2135     4.1   \n",
       "6                           Tung Fong       3644     4.3   \n",
       "...                               ...        ...     ...   \n",
       "7345  Jyotirbina Hotel And Restaurant          0     0.0   \n",
       "7346                         Cafe Soy          0     3.2   \n",
       "7368               Michel Nagar Dhaba          0     0.0   \n",
       "7370                       Perfect 10          0     0.0   \n",
       "7373                    Rasana Tripti          0     3.2   \n",
       "\n",
       "                                                address  \\\n",
       "0           18A, Park Street, Park Street Area, Kolkata   \n",
       "2                        18M, Park Street Area, Kolkata   \n",
       "3     1st Floor, 24, Park Center Building, Park Stre...   \n",
       "5           20K, Park Street, Park Street Area, Kolkata   \n",
       "6     25 B, Ground Floor, Karnani Mansion, Free Scho...   \n",
       "...                                                 ...   \n",
       "7345                                      Delivery Only   \n",
       "7346  Shop 31, C Block, Downtown Mall, Uniworld City...   \n",
       "7368  National Highway 34, Madhyamgram Municipality ...   \n",
       "7370  21D, Anupama Phase 1, Arjunpur, Kaikhali, Kolkata   \n",
       "7373  12, Mahesh Colony, Nistarini Super Market, She...   \n",
       "\n",
       "                                  cusine    cost  \\\n",
       "0              North Indian, Continental  1000.0   \n",
       "2                              Ice Cream  1000.0   \n",
       "3                              Ice Cream  1800.0   \n",
       "5     Chinese, North Indian, Continental   450.0   \n",
       "6      North Indian, Chinese, Kebab, BBQ  1000.0   \n",
       "...                                  ...     ...   \n",
       "7345                        North Indian   500.0   \n",
       "7346                           Fast Food   800.0   \n",
       "7368                 Sandwich, Fast Food   450.0   \n",
       "7370                        South Indian   700.0   \n",
       "7373                           Fast Food   500.0   \n",
       "\n",
       "                                               timing  \n",
       "0                            11am – 11:20pm (Mon-Sun)  \n",
       "2     12noon – 12midnight (Mon, Tue, Wed, Thu, Fri...  \n",
       "3         12noon – 3:30pm, 6:30pm – 10:45pm (Mon-Sun)  \n",
       "5                               11am – 11pm (Mon-Sun)  \n",
       "6                  12noon – 4pm, 6pm – 11pm (Mon-Sun)  \n",
       "...                                               ...  \n",
       "7345                            10am – 11pm (Mon-Sun)  \n",
       "7346                            11am – 11pm (Mon-Sun)  \n",
       "7368                               24 Hours (Mon-Sun)  \n",
       "7370                            11am – 11pm (Mon-Sun)  \n",
       "7373                            11am – 11pm (Mon-Sun)  \n",
       "\n",
       "[1896 rows x 7 columns]"
      ]
     },
     "execution_count": 61,
     "metadata": {},
     "output_type": "execute_result"
    }
   ],
   "source": [
    "high_end_restos"
   ]
  },
  {
   "cell_type": "code",
   "execution_count": 63,
   "id": "d0f0a08c",
   "metadata": {},
   "outputs": [
    {
     "data": {
      "text/html": [
       "<div>\n",
       "<style scoped>\n",
       "    .dataframe tbody tr th:only-of-type {\n",
       "        vertical-align: middle;\n",
       "    }\n",
       "\n",
       "    .dataframe tbody tr th {\n",
       "        vertical-align: top;\n",
       "    }\n",
       "\n",
       "    .dataframe thead th {\n",
       "        text-align: right;\n",
       "    }\n",
       "</style>\n",
       "<table border=\"1\" class=\"dataframe\">\n",
       "  <thead>\n",
       "    <tr style=\"text-align: right;\">\n",
       "      <th></th>\n",
       "      <th>name</th>\n",
       "      <th>voteCount</th>\n",
       "      <th>rating</th>\n",
       "      <th>address</th>\n",
       "      <th>cusine</th>\n",
       "      <th>cost</th>\n",
       "      <th>timing</th>\n",
       "    </tr>\n",
       "  </thead>\n",
       "  <tbody>\n",
       "    <tr>\n",
       "      <th>1</th>\n",
       "      <td>Naturals Ice Cream</td>\n",
       "      <td>2498</td>\n",
       "      <td>4.9</td>\n",
       "      <td>77/1/A, Ground Floor, Near West Bengal Board, ...</td>\n",
       "      <td>North Indian, Continental</td>\n",
       "      <td>200.0</td>\n",
       "      <td>11am – 12midnight (Mon-Sun)</td>\n",
       "    </tr>\n",
       "    <tr>\n",
       "      <th>2</th>\n",
       "      <td>Carpe Diem</td>\n",
       "      <td>4083</td>\n",
       "      <td>4.4</td>\n",
       "      <td>18M, Park Street Area, Kolkata</td>\n",
       "      <td>Ice Cream</td>\n",
       "      <td>1000.0</td>\n",
       "      <td>12noon – 12midnight (Mon, Tue, Wed, Thu, Fri...</td>\n",
       "    </tr>\n",
       "    <tr>\n",
       "      <th>15</th>\n",
       "      <td>The Sixth Sense</td>\n",
       "      <td>92</td>\n",
       "      <td>4.0</td>\n",
       "      <td>25B, Karnani Mansion, Opposite Westside, Park ...</td>\n",
       "      <td>Mughlai, North Indian, Rolls, Biryani</td>\n",
       "      <td>1500.0</td>\n",
       "      <td>12noon – 12midnight (Mon-Thu),12noon – 2am...</td>\n",
       "    </tr>\n",
       "    <tr>\n",
       "      <th>24</th>\n",
       "      <td>NFC Food Funda</td>\n",
       "      <td>71</td>\n",
       "      <td>3.9</td>\n",
       "      <td>48, AJC Bose Road, Near Mother Teresa House, P...</td>\n",
       "      <td>Chinese, North Indian, Asian</td>\n",
       "      <td>200.0</td>\n",
       "      <td>12:30pm – 12midnight (Mon-Sun)</td>\n",
       "    </tr>\n",
       "    <tr>\n",
       "      <th>26</th>\n",
       "      <td>Eaterniaa</td>\n",
       "      <td>505</td>\n",
       "      <td>4.1</td>\n",
       "      <td>111, Ripon Street, Near Ripon Street Police Mu...</td>\n",
       "      <td>Kebab</td>\n",
       "      <td>500.0</td>\n",
       "      <td>11:30am – 12midnight (Mon-Sun)</td>\n",
       "    </tr>\n",
       "  </tbody>\n",
       "</table>\n",
       "</div>"
      ],
      "text/plain": [
       "                  name  voteCount  rating  \\\n",
       "1   Naturals Ice Cream       2498     4.9   \n",
       "2           Carpe Diem       4083     4.4   \n",
       "15     The Sixth Sense         92     4.0   \n",
       "24      NFC Food Funda         71     3.9   \n",
       "26           Eaterniaa        505     4.1   \n",
       "\n",
       "                                              address  \\\n",
       "1   77/1/A, Ground Floor, Near West Bengal Board, ...   \n",
       "2                      18M, Park Street Area, Kolkata   \n",
       "15  25B, Karnani Mansion, Opposite Westside, Park ...   \n",
       "24  48, AJC Bose Road, Near Mother Teresa House, P...   \n",
       "26  111, Ripon Street, Near Ripon Street Police Mu...   \n",
       "\n",
       "                                   cusine    cost  \\\n",
       "1               North Indian, Continental   200.0   \n",
       "2                               Ice Cream  1000.0   \n",
       "15  Mughlai, North Indian, Rolls, Biryani  1500.0   \n",
       "24           Chinese, North Indian, Asian   200.0   \n",
       "26                                  Kebab   500.0   \n",
       "\n",
       "                                             timing  \n",
       "1                       11am – 12midnight (Mon-Sun)  \n",
       "2   12noon – 12midnight (Mon, Tue, Wed, Thu, Fri...  \n",
       "15    12noon – 12midnight (Mon-Thu),12noon – 2am...  \n",
       "24                   12:30pm – 12midnight (Mon-Sun)  \n",
       "26                   11:30am – 12midnight (Mon-Sun)  "
      ]
     },
     "execution_count": 63,
     "metadata": {},
     "output_type": "execute_result"
    }
   ],
   "source": [
    "midnight_restos = Data[Data['timing'].str.contains(\"midnight\")]\n",
    "midnight_restos.head()"
   ]
  },
  {
   "cell_type": "code",
   "execution_count": 65,
   "id": "de8620b3",
   "metadata": {},
   "outputs": [
    {
     "data": {
      "text/html": [
       "<div>\n",
       "<style scoped>\n",
       "    .dataframe tbody tr th:only-of-type {\n",
       "        vertical-align: middle;\n",
       "    }\n",
       "\n",
       "    .dataframe tbody tr th {\n",
       "        vertical-align: top;\n",
       "    }\n",
       "\n",
       "    .dataframe thead th {\n",
       "        text-align: right;\n",
       "    }\n",
       "</style>\n",
       "<table border=\"1\" class=\"dataframe\">\n",
       "  <thead>\n",
       "    <tr style=\"text-align: right;\">\n",
       "      <th></th>\n",
       "      <th>name</th>\n",
       "      <th>voteCount</th>\n",
       "      <th>rating</th>\n",
       "      <th>address</th>\n",
       "      <th>cusine</th>\n",
       "      <th>cost</th>\n",
       "      <th>timing</th>\n",
       "    </tr>\n",
       "  </thead>\n",
       "  <tbody>\n",
       "    <tr>\n",
       "      <th>1</th>\n",
       "      <td>Naturals Ice Cream</td>\n",
       "      <td>2498</td>\n",
       "      <td>4.9</td>\n",
       "      <td>77/1/A, Ground Floor, Near West Bengal Board, ...</td>\n",
       "      <td>North Indian, Continental</td>\n",
       "      <td>200.0</td>\n",
       "      <td>11am – 12midnight (Mon-Sun)</td>\n",
       "    </tr>\n",
       "    <tr>\n",
       "      <th>2</th>\n",
       "      <td>Carpe Diem</td>\n",
       "      <td>4083</td>\n",
       "      <td>4.4</td>\n",
       "      <td>18M, Park Street Area, Kolkata</td>\n",
       "      <td>Ice Cream</td>\n",
       "      <td>1000.0</td>\n",
       "      <td>12noon – 12midnight (Mon, Tue, Wed, Thu, Fri...</td>\n",
       "    </tr>\n",
       "    <tr>\n",
       "      <th>15</th>\n",
       "      <td>The Sixth Sense</td>\n",
       "      <td>92</td>\n",
       "      <td>4.0</td>\n",
       "      <td>25B, Karnani Mansion, Opposite Westside, Park ...</td>\n",
       "      <td>Mughlai, North Indian, Rolls, Biryani</td>\n",
       "      <td>1500.0</td>\n",
       "      <td>12noon – 12midnight (Mon-Thu),12noon – 2am...</td>\n",
       "    </tr>\n",
       "    <tr>\n",
       "      <th>24</th>\n",
       "      <td>NFC Food Funda</td>\n",
       "      <td>71</td>\n",
       "      <td>3.9</td>\n",
       "      <td>48, AJC Bose Road, Near Mother Teresa House, P...</td>\n",
       "      <td>Chinese, North Indian, Asian</td>\n",
       "      <td>200.0</td>\n",
       "      <td>12:30pm – 12midnight (Mon-Sun)</td>\n",
       "    </tr>\n",
       "    <tr>\n",
       "      <th>26</th>\n",
       "      <td>Eaterniaa</td>\n",
       "      <td>505</td>\n",
       "      <td>4.1</td>\n",
       "      <td>111, Ripon Street, Near Ripon Street Police Mu...</td>\n",
       "      <td>Kebab</td>\n",
       "      <td>500.0</td>\n",
       "      <td>11:30am – 12midnight (Mon-Sun)</td>\n",
       "    </tr>\n",
       "    <tr>\n",
       "      <th>...</th>\n",
       "      <td>...</td>\n",
       "      <td>...</td>\n",
       "      <td>...</td>\n",
       "      <td>...</td>\n",
       "      <td>...</td>\n",
       "      <td>...</td>\n",
       "      <td>...</td>\n",
       "    </tr>\n",
       "    <tr>\n",
       "      <th>7329</th>\n",
       "      <td>Yummy Multicuisine Restaurant</td>\n",
       "      <td>0</td>\n",
       "      <td>0.0</td>\n",
       "      <td>19, Purbayan, Rajarhat, Near Derozio Memorial,...</td>\n",
       "      <td>Momos, Chinese</td>\n",
       "      <td>400.0</td>\n",
       "      <td>11am – 12midnight (Mon-Sun)</td>\n",
       "    </tr>\n",
       "    <tr>\n",
       "      <th>7335</th>\n",
       "      <td>Afghan Biryani</td>\n",
       "      <td>0</td>\n",
       "      <td>0.0</td>\n",
       "      <td>Delivery Only</td>\n",
       "      <td>Fast Food</td>\n",
       "      <td>250.0</td>\n",
       "      <td>11am – 12midnight (Mon-Sun)</td>\n",
       "    </tr>\n",
       "    <tr>\n",
       "      <th>7336</th>\n",
       "      <td>Tiffin Express</td>\n",
       "      <td>0</td>\n",
       "      <td>0.0</td>\n",
       "      <td>Delivery Only</td>\n",
       "      <td>Chinese, North Indian, Fast Food</td>\n",
       "      <td>200.0</td>\n",
       "      <td>8am – 12midnight (Mon-Sun)</td>\n",
       "    </tr>\n",
       "    <tr>\n",
       "      <th>7342</th>\n",
       "      <td>Wow Now</td>\n",
       "      <td>0</td>\n",
       "      <td>0.0</td>\n",
       "      <td>Delivery Only</td>\n",
       "      <td>Biryani</td>\n",
       "      <td>200.0</td>\n",
       "      <td>10am – 12midnight (Mon-Sun)</td>\n",
       "    </tr>\n",
       "    <tr>\n",
       "      <th>7360</th>\n",
       "      <td>Super Sunday Suppers</td>\n",
       "      <td>0</td>\n",
       "      <td>0.0</td>\n",
       "      <td>Christian Para, Kestopur, Kolkata</td>\n",
       "      <td>Chinese</td>\n",
       "      <td>400.0</td>\n",
       "      <td>10am – 12midnight (Mon-Sun)</td>\n",
       "    </tr>\n",
       "  </tbody>\n",
       "</table>\n",
       "<p>670 rows × 7 columns</p>\n",
       "</div>"
      ],
      "text/plain": [
       "                               name  voteCount  rating  \\\n",
       "1                Naturals Ice Cream       2498     4.9   \n",
       "2                        Carpe Diem       4083     4.4   \n",
       "15                  The Sixth Sense         92     4.0   \n",
       "24                   NFC Food Funda         71     3.9   \n",
       "26                        Eaterniaa        505     4.1   \n",
       "...                             ...        ...     ...   \n",
       "7329  Yummy Multicuisine Restaurant          0     0.0   \n",
       "7335                 Afghan Biryani          0     0.0   \n",
       "7336                 Tiffin Express          0     0.0   \n",
       "7342                        Wow Now          0     0.0   \n",
       "7360           Super Sunday Suppers          0     0.0   \n",
       "\n",
       "                                                address  \\\n",
       "1     77/1/A, Ground Floor, Near West Bengal Board, ...   \n",
       "2                        18M, Park Street Area, Kolkata   \n",
       "15    25B, Karnani Mansion, Opposite Westside, Park ...   \n",
       "24    48, AJC Bose Road, Near Mother Teresa House, P...   \n",
       "26    111, Ripon Street, Near Ripon Street Police Mu...   \n",
       "...                                                 ...   \n",
       "7329  19, Purbayan, Rajarhat, Near Derozio Memorial,...   \n",
       "7335                                      Delivery Only   \n",
       "7336                                      Delivery Only   \n",
       "7342                                      Delivery Only   \n",
       "7360                  Christian Para, Kestopur, Kolkata   \n",
       "\n",
       "                                     cusine    cost  \\\n",
       "1                 North Indian, Continental   200.0   \n",
       "2                                 Ice Cream  1000.0   \n",
       "15    Mughlai, North Indian, Rolls, Biryani  1500.0   \n",
       "24             Chinese, North Indian, Asian   200.0   \n",
       "26                                    Kebab   500.0   \n",
       "...                                     ...     ...   \n",
       "7329                         Momos, Chinese   400.0   \n",
       "7335                              Fast Food   250.0   \n",
       "7336       Chinese, North Indian, Fast Food   200.0   \n",
       "7342                                Biryani   200.0   \n",
       "7360                                Chinese   400.0   \n",
       "\n",
       "                                               timing  \n",
       "1                         11am – 12midnight (Mon-Sun)  \n",
       "2     12noon – 12midnight (Mon, Tue, Wed, Thu, Fri...  \n",
       "15      12noon – 12midnight (Mon-Thu),12noon – 2am...  \n",
       "24                     12:30pm – 12midnight (Mon-Sun)  \n",
       "26                     11:30am – 12midnight (Mon-Sun)  \n",
       "...                                               ...  \n",
       "7329                      11am – 12midnight (Mon-Sun)  \n",
       "7335                      11am – 12midnight (Mon-Sun)  \n",
       "7336                       8am – 12midnight (Mon-Sun)  \n",
       "7342                      10am – 12midnight (Mon-Sun)  \n",
       "7360                      10am – 12midnight (Mon-Sun)  \n",
       "\n",
       "[670 rows x 7 columns]"
      ]
     },
     "execution_count": 65,
     "metadata": {},
     "output_type": "execute_result"
    }
   ],
   "source": [
    "midnight_restos"
   ]
  },
  {
   "cell_type": "code",
   "execution_count": 70,
   "id": "8f683ae0",
   "metadata": {},
   "outputs": [
    {
     "data": {
      "text/html": [
       "<div>\n",
       "<style scoped>\n",
       "    .dataframe tbody tr th:only-of-type {\n",
       "        vertical-align: middle;\n",
       "    }\n",
       "\n",
       "    .dataframe tbody tr th {\n",
       "        vertical-align: top;\n",
       "    }\n",
       "\n",
       "    .dataframe thead th {\n",
       "        text-align: right;\n",
       "    }\n",
       "</style>\n",
       "<table border=\"1\" class=\"dataframe\">\n",
       "  <thead>\n",
       "    <tr style=\"text-align: right;\">\n",
       "      <th></th>\n",
       "      <th>name</th>\n",
       "      <th>voteCount</th>\n",
       "      <th>rating</th>\n",
       "      <th>address</th>\n",
       "      <th>cusine</th>\n",
       "      <th>cost</th>\n",
       "      <th>timing</th>\n",
       "    </tr>\n",
       "  </thead>\n",
       "  <tbody>\n",
       "    <tr>\n",
       "      <th>0</th>\n",
       "      <td>Peter Cat</td>\n",
       "      <td>12404</td>\n",
       "      <td>4.2</td>\n",
       "      <td>18A, Park Street, Park Street Area, Kolkata</td>\n",
       "      <td>North Indian, Continental</td>\n",
       "      <td>1000.0</td>\n",
       "      <td>11am – 11:20pm (Mon-Sun)</td>\n",
       "    </tr>\n",
       "    <tr>\n",
       "      <th>3</th>\n",
       "      <td>Barbeque Nation</td>\n",
       "      <td>5455</td>\n",
       "      <td>4.6</td>\n",
       "      <td>1st Floor, 24, Park Center Building, Park Stre...</td>\n",
       "      <td>Ice Cream</td>\n",
       "      <td>1800.0</td>\n",
       "      <td>12noon – 3:30pm, 6:30pm – 10:45pm (Mon-Sun)</td>\n",
       "    </tr>\n",
       "    <tr>\n",
       "      <th>4</th>\n",
       "      <td>Flurys</td>\n",
       "      <td>4709</td>\n",
       "      <td>4.2</td>\n",
       "      <td>15, Apeejay House, Park Street Area, Kolkata</td>\n",
       "      <td>Chinese, North Indian, Continental</td>\n",
       "      <td>400.0</td>\n",
       "      <td>7:30am – 11pm (Mon-Sun)</td>\n",
       "    </tr>\n",
       "    <tr>\n",
       "      <th>5</th>\n",
       "      <td>KFC</td>\n",
       "      <td>2135</td>\n",
       "      <td>4.1</td>\n",
       "      <td>20K, Park Street, Park Street Area, Kolkata</td>\n",
       "      <td>Chinese, North Indian, Continental</td>\n",
       "      <td>450.0</td>\n",
       "      <td>11am – 11pm (Mon-Sun)</td>\n",
       "    </tr>\n",
       "    <tr>\n",
       "      <th>6</th>\n",
       "      <td>Tung Fong</td>\n",
       "      <td>3644</td>\n",
       "      <td>4.3</td>\n",
       "      <td>25 B, Ground Floor, Karnani Mansion, Free Scho...</td>\n",
       "      <td>North Indian, Chinese, Kebab, BBQ</td>\n",
       "      <td>1000.0</td>\n",
       "      <td>12noon – 4pm, 6pm – 11pm (Mon-Sun)</td>\n",
       "    </tr>\n",
       "    <tr>\n",
       "      <th>...</th>\n",
       "      <td>...</td>\n",
       "      <td>...</td>\n",
       "      <td>...</td>\n",
       "      <td>...</td>\n",
       "      <td>...</td>\n",
       "      <td>...</td>\n",
       "      <td>...</td>\n",
       "    </tr>\n",
       "    <tr>\n",
       "      <th>7383</th>\n",
       "      <td>WOW! ARBA</td>\n",
       "      <td>0</td>\n",
       "      <td>0.0</td>\n",
       "      <td>Delivery Only</td>\n",
       "      <td>Chinese, Fast Food</td>\n",
       "      <td>150.0</td>\n",
       "      <td>11am – 11pm (Mon-Sun)</td>\n",
       "    </tr>\n",
       "    <tr>\n",
       "      <th>7384</th>\n",
       "      <td>Renu's</td>\n",
       "      <td>50</td>\n",
       "      <td>2.8</td>\n",
       "      <td>89/109, Vivekananda Road, Bangur Park, Hooghly...</td>\n",
       "      <td>Bengali</td>\n",
       "      <td>350.0</td>\n",
       "      <td>11am – 11pm (Mon-Sun)</td>\n",
       "    </tr>\n",
       "    <tr>\n",
       "      <th>7385</th>\n",
       "      <td>The Food Place</td>\n",
       "      <td>0</td>\n",
       "      <td>0.0</td>\n",
       "      <td>119, Ramkrishna Road, Radhashree, Landmark- Ai...</td>\n",
       "      <td>Bengali</td>\n",
       "      <td>150.0</td>\n",
       "      <td>8am – 11:45pm (Mon-Sun)</td>\n",
       "    </tr>\n",
       "    <tr>\n",
       "      <th>7386</th>\n",
       "      <td>New Dalma Restaurant</td>\n",
       "      <td>0</td>\n",
       "      <td>0.0</td>\n",
       "      <td>Delivery Only</td>\n",
       "      <td>Chinese</td>\n",
       "      <td>250.0</td>\n",
       "      <td>12noon – 10:30pm (Mon-Sun)</td>\n",
       "    </tr>\n",
       "    <tr>\n",
       "      <th>7387</th>\n",
       "      <td>Baanerjee Cabin</td>\n",
       "      <td>0</td>\n",
       "      <td>0.0</td>\n",
       "      <td>89, Nripen Sarkar Road, Sahapukur, Sreedurga C...</td>\n",
       "      <td>Chinese</td>\n",
       "      <td>200.0</td>\n",
       "      <td>10am – 11pm (Mon-Sun)</td>\n",
       "    </tr>\n",
       "  </tbody>\n",
       "</table>\n",
       "<p>6718 rows × 7 columns</p>\n",
       "</div>"
      ],
      "text/plain": [
       "                      name  voteCount  rating  \\\n",
       "0                Peter Cat      12404     4.2   \n",
       "3          Barbeque Nation       5455     4.6   \n",
       "4                   Flurys       4709     4.2   \n",
       "5                      KFC       2135     4.1   \n",
       "6                Tung Fong       3644     4.3   \n",
       "...                    ...        ...     ...   \n",
       "7383             WOW! ARBA          0     0.0   \n",
       "7384                Renu's         50     2.8   \n",
       "7385        The Food Place          0     0.0   \n",
       "7386  New Dalma Restaurant          0     0.0   \n",
       "7387       Baanerjee Cabin          0     0.0   \n",
       "\n",
       "                                                address  \\\n",
       "0           18A, Park Street, Park Street Area, Kolkata   \n",
       "3     1st Floor, 24, Park Center Building, Park Stre...   \n",
       "4          15, Apeejay House, Park Street Area, Kolkata   \n",
       "5           20K, Park Street, Park Street Area, Kolkata   \n",
       "6     25 B, Ground Floor, Karnani Mansion, Free Scho...   \n",
       "...                                                 ...   \n",
       "7383                                      Delivery Only   \n",
       "7384  89/109, Vivekananda Road, Bangur Park, Hooghly...   \n",
       "7385  119, Ramkrishna Road, Radhashree, Landmark- Ai...   \n",
       "7386                                      Delivery Only   \n",
       "7387  89, Nripen Sarkar Road, Sahapukur, Sreedurga C...   \n",
       "\n",
       "                                  cusine    cost  \\\n",
       "0              North Indian, Continental  1000.0   \n",
       "3                              Ice Cream  1800.0   \n",
       "4     Chinese, North Indian, Continental   400.0   \n",
       "5     Chinese, North Indian, Continental   450.0   \n",
       "6      North Indian, Chinese, Kebab, BBQ  1000.0   \n",
       "...                                  ...     ...   \n",
       "7383                  Chinese, Fast Food   150.0   \n",
       "7384                             Bengali   350.0   \n",
       "7385                             Bengali   150.0   \n",
       "7386                             Chinese   250.0   \n",
       "7387                             Chinese   200.0   \n",
       "\n",
       "                                           timing  \n",
       "0                        11am – 11:20pm (Mon-Sun)  \n",
       "3     12noon – 3:30pm, 6:30pm – 10:45pm (Mon-Sun)  \n",
       "4                         7:30am – 11pm (Mon-Sun)  \n",
       "5                           11am – 11pm (Mon-Sun)  \n",
       "6              12noon – 4pm, 6pm – 11pm (Mon-Sun)  \n",
       "...                                           ...  \n",
       "7383                        11am – 11pm (Mon-Sun)  \n",
       "7384                        11am – 11pm (Mon-Sun)  \n",
       "7385                      8am – 11:45pm (Mon-Sun)  \n",
       "7386                   12noon – 10:30pm (Mon-Sun)  \n",
       "7387                        10am – 11pm (Mon-Sun)  \n",
       "\n",
       "[6718 rows x 7 columns]"
      ]
     },
     "execution_count": 70,
     "metadata": {},
     "output_type": "execute_result"
    }
   ],
   "source": [
    "genral_timed_resto = Data[Data['timing'].str.contains(\"midnight\")== False]\n",
    "genral_timed_resto"
   ]
  },
  {
   "cell_type": "code",
   "execution_count": 71,
   "id": "d00d35a4",
   "metadata": {},
   "outputs": [
    {
     "data": {
      "text/html": [
       "<div>\n",
       "<style scoped>\n",
       "    .dataframe tbody tr th:only-of-type {\n",
       "        vertical-align: middle;\n",
       "    }\n",
       "\n",
       "    .dataframe tbody tr th {\n",
       "        vertical-align: top;\n",
       "    }\n",
       "\n",
       "    .dataframe thead th {\n",
       "        text-align: right;\n",
       "    }\n",
       "</style>\n",
       "<table border=\"1\" class=\"dataframe\">\n",
       "  <thead>\n",
       "    <tr style=\"text-align: right;\">\n",
       "      <th></th>\n",
       "      <th>name</th>\n",
       "      <th>voteCount</th>\n",
       "      <th>rating</th>\n",
       "      <th>address</th>\n",
       "      <th>cusine</th>\n",
       "      <th>cost</th>\n",
       "      <th>timing</th>\n",
       "    </tr>\n",
       "  </thead>\n",
       "  <tbody>\n",
       "    <tr>\n",
       "      <th>1</th>\n",
       "      <td>Naturals Ice Cream</td>\n",
       "      <td>2498</td>\n",
       "      <td>4.9</td>\n",
       "      <td>77/1/A, Ground Floor, Near West Bengal Board, ...</td>\n",
       "      <td>North Indian, Continental</td>\n",
       "      <td>200.0</td>\n",
       "      <td>11am – 12midnight (Mon-Sun)</td>\n",
       "    </tr>\n",
       "    <tr>\n",
       "      <th>24</th>\n",
       "      <td>NFC Food Funda</td>\n",
       "      <td>71</td>\n",
       "      <td>3.9</td>\n",
       "      <td>48, AJC Bose Road, Near Mother Teresa House, P...</td>\n",
       "      <td>Chinese, North Indian, Asian</td>\n",
       "      <td>200.0</td>\n",
       "      <td>12:30pm – 12midnight (Mon-Sun)</td>\n",
       "    </tr>\n",
       "    <tr>\n",
       "      <th>28</th>\n",
       "      <td>Hot Kati Roll</td>\n",
       "      <td>816</td>\n",
       "      <td>3.8</td>\n",
       "      <td>1B, Park Estate, Park Street Area, Kolkata</td>\n",
       "      <td>Bakery, Desserts</td>\n",
       "      <td>200.0</td>\n",
       "      <td>11am – 10pm (Mon-Sun)</td>\n",
       "    </tr>\n",
       "    <tr>\n",
       "      <th>61</th>\n",
       "      <td>Crazy 4 Cakes</td>\n",
       "      <td>0</td>\n",
       "      <td>0.0</td>\n",
       "      <td>7/1, Russel Street, Park Street Area, Kolkata</td>\n",
       "      <td>Pizza, Fast Food</td>\n",
       "      <td>200.0</td>\n",
       "      <td>10:30am – 9:30pm (Mon-Sun)</td>\n",
       "    </tr>\n",
       "    <tr>\n",
       "      <th>66</th>\n",
       "      <td>UBQ by Barbeque Nation</td>\n",
       "      <td>67</td>\n",
       "      <td>3.5</td>\n",
       "      <td>1st Floor, Park Center, Building 24, Park Stre...</td>\n",
       "      <td>Biryani, North Indian, Mughlai</td>\n",
       "      <td>200.0</td>\n",
       "      <td>12noon – 3pm, 6:30pm – 11pm (Mon-Sun)</td>\n",
       "    </tr>\n",
       "    <tr>\n",
       "      <th>...</th>\n",
       "      <td>...</td>\n",
       "      <td>...</td>\n",
       "      <td>...</td>\n",
       "      <td>...</td>\n",
       "      <td>...</td>\n",
       "      <td>...</td>\n",
       "      <td>...</td>\n",
       "    </tr>\n",
       "    <tr>\n",
       "      <th>7377</th>\n",
       "      <td>Wow! Arba</td>\n",
       "      <td>0</td>\n",
       "      <td>0.0</td>\n",
       "      <td>Delivery Only</td>\n",
       "      <td>Mishti</td>\n",
       "      <td>200.0</td>\n",
       "      <td>11am – 11pm (Mon-Sun)</td>\n",
       "    </tr>\n",
       "    <tr>\n",
       "      <th>7378</th>\n",
       "      <td>SayShawarma</td>\n",
       "      <td>0</td>\n",
       "      <td>0.0</td>\n",
       "      <td>ST.7 Bus Stand, Shapoorji Apartments, New Town...</td>\n",
       "      <td>Mithai</td>\n",
       "      <td>160.0</td>\n",
       "      <td>5pm – 11pm (Mon-Sun)</td>\n",
       "    </tr>\n",
       "    <tr>\n",
       "      <th>7383</th>\n",
       "      <td>WOW! ARBA</td>\n",
       "      <td>0</td>\n",
       "      <td>0.0</td>\n",
       "      <td>Delivery Only</td>\n",
       "      <td>Chinese, Fast Food</td>\n",
       "      <td>150.0</td>\n",
       "      <td>11am – 11pm (Mon-Sun)</td>\n",
       "    </tr>\n",
       "    <tr>\n",
       "      <th>7385</th>\n",
       "      <td>The Food Place</td>\n",
       "      <td>0</td>\n",
       "      <td>0.0</td>\n",
       "      <td>119, Ramkrishna Road, Radhashree, Landmark- Ai...</td>\n",
       "      <td>Bengali</td>\n",
       "      <td>150.0</td>\n",
       "      <td>8am – 11:45pm (Mon-Sun)</td>\n",
       "    </tr>\n",
       "    <tr>\n",
       "      <th>7387</th>\n",
       "      <td>Baanerjee Cabin</td>\n",
       "      <td>0</td>\n",
       "      <td>0.0</td>\n",
       "      <td>89, Nripen Sarkar Road, Sahapukur, Sreedurga C...</td>\n",
       "      <td>Chinese</td>\n",
       "      <td>200.0</td>\n",
       "      <td>10am – 11pm (Mon-Sun)</td>\n",
       "    </tr>\n",
       "  </tbody>\n",
       "</table>\n",
       "<p>2193 rows × 7 columns</p>\n",
       "</div>"
      ],
      "text/plain": [
       "                        name  voteCount  rating  \\\n",
       "1         Naturals Ice Cream       2498     4.9   \n",
       "24            NFC Food Funda         71     3.9   \n",
       "28             Hot Kati Roll        816     3.8   \n",
       "61             Crazy 4 Cakes          0     0.0   \n",
       "66    UBQ by Barbeque Nation         67     3.5   \n",
       "...                      ...        ...     ...   \n",
       "7377               Wow! Arba          0     0.0   \n",
       "7378             SayShawarma          0     0.0   \n",
       "7383               WOW! ARBA          0     0.0   \n",
       "7385          The Food Place          0     0.0   \n",
       "7387         Baanerjee Cabin          0     0.0   \n",
       "\n",
       "                                                address  \\\n",
       "1     77/1/A, Ground Floor, Near West Bengal Board, ...   \n",
       "24    48, AJC Bose Road, Near Mother Teresa House, P...   \n",
       "28           1B, Park Estate, Park Street Area, Kolkata   \n",
       "61        7/1, Russel Street, Park Street Area, Kolkata   \n",
       "66    1st Floor, Park Center, Building 24, Park Stre...   \n",
       "...                                                 ...   \n",
       "7377                                      Delivery Only   \n",
       "7378  ST.7 Bus Stand, Shapoorji Apartments, New Town...   \n",
       "7383                                      Delivery Only   \n",
       "7385  119, Ramkrishna Road, Radhashree, Landmark- Ai...   \n",
       "7387  89, Nripen Sarkar Road, Sahapukur, Sreedurga C...   \n",
       "\n",
       "                              cusine   cost  \\\n",
       "1          North Indian, Continental  200.0   \n",
       "24      Chinese, North Indian, Asian  200.0   \n",
       "28                  Bakery, Desserts  200.0   \n",
       "61                  Pizza, Fast Food  200.0   \n",
       "66    Biryani, North Indian, Mughlai  200.0   \n",
       "...                              ...    ...   \n",
       "7377                          Mishti  200.0   \n",
       "7378                          Mithai  160.0   \n",
       "7383              Chinese, Fast Food  150.0   \n",
       "7385                         Bengali  150.0   \n",
       "7387                         Chinese  200.0   \n",
       "\n",
       "                                     timing  \n",
       "1               11am – 12midnight (Mon-Sun)  \n",
       "24           12:30pm – 12midnight (Mon-Sun)  \n",
       "28                    11am – 10pm (Mon-Sun)  \n",
       "61               10:30am – 9:30pm (Mon-Sun)  \n",
       "66    12noon – 3pm, 6:30pm – 11pm (Mon-Sun)  \n",
       "...                                     ...  \n",
       "7377                  11am – 11pm (Mon-Sun)  \n",
       "7378                   5pm – 11pm (Mon-Sun)  \n",
       "7383                  11am – 11pm (Mon-Sun)  \n",
       "7385                8am – 11:45pm (Mon-Sun)  \n",
       "7387                  10am – 11pm (Mon-Sun)  \n",
       "\n",
       "[2193 rows x 7 columns]"
      ]
     },
     "execution_count": 71,
     "metadata": {},
     "output_type": "execute_result"
    }
   ],
   "source": [
    "cheap_restos "
   ]
  },
  {
   "cell_type": "code",
   "execution_count": 77,
   "id": "f0bff555",
   "metadata": {},
   "outputs": [
    {
     "data": {
      "image/png": "[encoded data removed]",
      "text/plain": [
       "<Figure size 432x288 with 2 Axes>"
      ]
     },
     "metadata": {
      "needs_background": "light"
     },
     "output_type": "display_data"
    }
   ],
   "source": [
    "sns.heatmap(Data.corr())\n",
    "plt.show()"
   ]
  },
  {
   "cell_type": "markdown",
   "id": "6a0e9ac9",
   "metadata": {},
   "source": [
    "#### The co relation shows no significant connection between rating , cost and votecount"
   ]
  },
  {
   "cell_type": "code",
   "execution_count": 85,
   "id": "9607acb2",
   "metadata": {},
   "outputs": [
    {
     "name": "stderr",
     "output_type": "stream",
     "text": [
      "c:\\users\\joy\\appdata\\local\\programs\\python\\python36\\lib\\site-packages\\seaborn\\_decorators.py:43: FutureWarning: Pass the following variables as keyword args: x, y. From version 0.12, the only valid positional argument will be `data`, and passing other arguments without an explicit keyword will result in an error or misinterpretation.\n",
      "  FutureWarning\n"
     ]
    },
    {
     "data": {
      "image/png": "[encoded data removed]",
      "text/plain": [
       "<Figure size 576x360 with 1 Axes>"
      ]
     },
     "metadata": {
      "needs_background": "light"
     },
     "output_type": "display_data"
    }
   ],
   "source": [
    "sns.barplot(popular_cuisines['Cuisines'],popular_cuisines['Count'])\n",
    "plt.rcParams['figure.figsize']=(8,5)\n",
    "plt.show()"
   ]
  },
  {
   "cell_type": "markdown",
   "id": "809d96ff",
   "metadata": {},
   "source": [
    "#### As we can see from the plotting , North Indian and chinese cuisines are ruling the bengal market and bengali foods are last in the list for obvius reasons"
   ]
  },
  {
   "cell_type": "code",
   "execution_count": 94,
   "id": "d1c4e93e",
   "metadata": {},
   "outputs": [
    {
     "name": "stderr",
     "output_type": "stream",
     "text": [
      "c:\\users\\joy\\appdata\\local\\programs\\python\\python36\\lib\\site-packages\\seaborn\\_decorators.py:43: FutureWarning: Pass the following variables as keyword args: x, y. From version 0.12, the only valid positional argument will be `data`, and passing other arguments without an explicit keyword will result in an error or misinterpretation.\n",
      "  FutureWarning\n"
     ]
    },
    {
     "data": {
      "image/png": "[encoded data removed]",
      "text/plain": [
       "<Figure size 1080x720 with 1 Axes>"
      ]
     },
     "metadata": {
      "needs_background": "light"
     },
     "output_type": "display_data"
    }
   ],
   "source": [
    "sns.scatterplot(Data['voteCount'],Data['rating'])\n",
    "plt.rcParams['figure.figsize']=(15,10)\n",
    "plt.show()"
   ]
  },
  {
   "cell_type": "code",
   "execution_count": 95,
   "id": "ab4fc245",
   "metadata": {},
   "outputs": [
    {
     "name": "stderr",
     "output_type": "stream",
     "text": [
      "c:\\users\\joy\\appdata\\local\\programs\\python\\python36\\lib\\site-packages\\seaborn\\_decorators.py:43: FutureWarning: Pass the following variables as keyword args: x, y. From version 0.12, the only valid positional argument will be `data`, and passing other arguments without an explicit keyword will result in an error or misinterpretation.\n",
      "  FutureWarning\n"
     ]
    },
    {
     "data": {
      "image/png": "[encoded data removed]",
      "text/plain": [
       "<Figure size 1080x720 with 1 Axes>"
      ]
     },
     "metadata": {
      "needs_background": "light"
     },
     "output_type": "display_data"
    }
   ],
   "source": [
    "sns.scatterplot(Data['cost'],Data['rating'])\n",
    "plt.rcParams['figure.figsize']=(15,10)\n",
    "plt.show()"
   ]
  },
  {
   "cell_type": "code",
   "execution_count": 97,
   "id": "6a0b60a8",
   "metadata": {},
   "outputs": [
    {
     "name": "stderr",
     "output_type": "stream",
     "text": [
      "c:\\users\\joy\\appdata\\local\\programs\\python\\python36\\lib\\site-packages\\seaborn\\_decorators.py:43: FutureWarning: Pass the following variables as keyword args: x, y. From version 0.12, the only valid positional argument will be `data`, and passing other arguments without an explicit keyword will result in an error or misinterpretation.\n",
      "  FutureWarning\n"
     ]
    },
    {
     "data": {
      "image/png": "[encoded data removed]",
      "text/plain": [
       "<Figure size 1080x720 with 1 Axes>"
      ]
     },
     "metadata": {
      "needs_background": "light"
     },
     "output_type": "display_data"
    }
   ],
   "source": [
    "sns.scatterplot(Data['cost'],Data['voteCount'])\n",
    "plt.rcParams['figure.figsize']=(15,10)\n",
    "plt.show()"
   ]
  },
  {
   "cell_type": "markdown",
   "id": "f60c3903",
   "metadata": {},
   "source": [
    "#### The three scatterplots above clearly proves three things\n",
    "##### The highest rated restaurant need to be the costliest.\n",
    "##### The costliest restaurant doesn't necessarily promote themselves in zomato with paid votes. rather small restaurants does.\n",
    "##### restaurants which got highest number of votes generally ar mid tier / cheap restaurants with a few exceptions."
   ]
  },
  {
   "cell_type": "code",
   "execution_count": 102,
   "id": "e35eea15",
   "metadata": {},
   "outputs": [
    {
     "data": {
      "text/plain": [
       "count    7388.000000\n",
       "mean        2.507932\n",
       "std         1.517401\n",
       "min         0.000000\n",
       "25%         0.000000\n",
       "50%         3.200000\n",
       "75%         3.500000\n",
       "max         4.900000\n",
       "Name: rating, dtype: float64"
      ]
     },
     "execution_count": 102,
     "metadata": {},
     "output_type": "execute_result"
    }
   ],
   "source": [
    "Data['rating'].describe()"
   ]
  },
  {
   "cell_type": "code",
   "execution_count": 103,
   "id": "251733ab",
   "metadata": {},
   "outputs": [
    {
     "data": {
      "text/plain": [
       "count     7388.000000\n",
       "mean       109.419058\n",
       "std        372.898968\n",
       "min          0.000000\n",
       "25%          0.000000\n",
       "50%         14.000000\n",
       "75%         64.000000\n",
       "max      12404.000000\n",
       "Name: voteCount, dtype: float64"
      ]
     },
     "execution_count": 103,
     "metadata": {},
     "output_type": "execute_result"
    }
   ],
   "source": [
    "Data['voteCount'].describe()"
   ]
  },
  {
   "cell_type": "code",
   "execution_count": 98,
   "id": "cf07f22c",
   "metadata": {},
   "outputs": [
    {
     "data": {
      "text/plain": [
       "3.1789029535864977"
      ]
     },
     "execution_count": 98,
     "metadata": {},
     "output_type": "execute_result"
    }
   ],
   "source": [
    "high_end_restos['rating'].mean()"
   ]
  },
  {
   "cell_type": "code",
   "execution_count": 111,
   "id": "c676378b",
   "metadata": {},
   "outputs": [
    {
     "name": "stderr",
     "output_type": "stream",
     "text": [
      "c:\\users\\joy\\appdata\\local\\programs\\python\\python36\\lib\\site-packages\\seaborn\\_decorators.py:43: FutureWarning: Pass the following variables as keyword args: x, y. From version 0.12, the only valid positional argument will be `data`, and passing other arguments without an explicit keyword will result in an error or misinterpretation.\n",
      "  FutureWarning\n"
     ]
    },
    {
     "data": {
      "image/png": "[encoded data removed]",
      "text/plain": [
       "<Figure size 576x360 with 1 Axes>"
      ]
     },
     "metadata": {
      "needs_background": "light"
     },
     "output_type": "display_data"
    }
   ],
   "source": [
    "sns.scatterplot(high_end_restos['cost'],high_end_restos['rating'])\n",
    "plt.rcParams['figure.figsize']=(8,5)\n",
    "plt.show()"
   ]
  },
  {
   "cell_type": "code",
   "execution_count": 99,
   "id": "03190e70",
   "metadata": {},
   "outputs": [
    {
     "data": {
      "text/plain": [
       "2.1180574555403555"
      ]
     },
     "execution_count": 99,
     "metadata": {},
     "output_type": "execute_result"
    }
   ],
   "source": [
    "cheap_restos['rating'].mean()"
   ]
  },
  {
   "cell_type": "code",
   "execution_count": 113,
   "id": "dbe46624",
   "metadata": {},
   "outputs": [
    {
     "name": "stderr",
     "output_type": "stream",
     "text": [
      "c:\\users\\joy\\appdata\\local\\programs\\python\\python36\\lib\\site-packages\\seaborn\\_decorators.py:43: FutureWarning: Pass the following variables as keyword args: x, y. From version 0.12, the only valid positional argument will be `data`, and passing other arguments without an explicit keyword will result in an error or misinterpretation.\n",
      "  FutureWarning\n"
     ]
    },
    {
     "data": {
      "image/png": "[encoded data removed]",
      "text/plain": [
       "<Figure size 576x360 with 1 Axes>"
      ]
     },
     "metadata": {
      "needs_background": "light"
     },
     "output_type": "display_data"
    }
   ],
   "source": [
    "sns.scatterplot(cheap_restos['rating'],cheap_restos['cost'])\n",
    "plt.rcParams['figure.figsize']=(8,5)\n",
    "plt.show()"
   ]
  },
  {
   "cell_type": "code",
   "execution_count": 100,
   "id": "6343596a",
   "metadata": {},
   "outputs": [
    {
     "data": {
      "text/plain": [
       "287.6645569620253"
      ]
     },
     "execution_count": 100,
     "metadata": {},
     "output_type": "execute_result"
    }
   ],
   "source": [
    "high_end_restos['voteCount'].mean()"
   ]
  },
  {
   "cell_type": "code",
   "execution_count": 114,
   "id": "48b8145b",
   "metadata": {},
   "outputs": [
    {
     "name": "stderr",
     "output_type": "stream",
     "text": [
      "c:\\users\\joy\\appdata\\local\\programs\\python\\python36\\lib\\site-packages\\seaborn\\_decorators.py:43: FutureWarning: Pass the following variables as keyword args: x, y. From version 0.12, the only valid positional argument will be `data`, and passing other arguments without an explicit keyword will result in an error or misinterpretation.\n",
      "  FutureWarning\n"
     ]
    },
    {
     "data": {
      "image/png": "[encoded data removed]",
      "text/plain": [
       "<Figure size 576x360 with 1 Axes>"
      ]
     },
     "metadata": {
      "needs_background": "light"
     },
     "output_type": "display_data"
    }
   ],
   "source": [
    "sns.scatterplot(high_end_restos['voteCount'],high_end_restos['rating'])\n",
    "plt.rcParams['figure.figsize']=(8,5)\n",
    "plt.show()"
   ]
  },
  {
   "cell_type": "code",
   "execution_count": 101,
   "id": "d92413b0",
   "metadata": {},
   "outputs": [
    {
     "data": {
      "text/plain": [
       "31.6046511627907"
      ]
     },
     "execution_count": 101,
     "metadata": {},
     "output_type": "execute_result"
    }
   ],
   "source": [
    "cheap_restos['voteCount'].mean()"
   ]
  },
  {
   "cell_type": "code",
   "execution_count": 115,
   "id": "1817e302",
   "metadata": {},
   "outputs": [
    {
     "name": "stderr",
     "output_type": "stream",
     "text": [
      "c:\\users\\joy\\appdata\\local\\programs\\python\\python36\\lib\\site-packages\\seaborn\\_decorators.py:43: FutureWarning: Pass the following variables as keyword args: x, y. From version 0.12, the only valid positional argument will be `data`, and passing other arguments without an explicit keyword will result in an error or misinterpretation.\n",
      "  FutureWarning\n"
     ]
    },
    {
     "data": {
      "image/png": "[encoded data removed]",
      "text/plain": [
       "<Figure size 576x360 with 1 Axes>"
      ]
     },
     "metadata": {
      "needs_background": "light"
     },
     "output_type": "display_data"
    }
   ],
   "source": [
    "sns.scatterplot(cheap_restos['voteCount'],cheap_restos['rating'])\n",
    "plt.rcParams['figure.figsize']=(8,5)\n",
    "plt.show()"
   ]
  },
  {
   "cell_type": "code",
   "execution_count": 104,
   "id": "12423e0d",
   "metadata": {},
   "outputs": [
    {
     "data": {
      "text/plain": [
       "2.6646268656716416"
      ]
     },
     "execution_count": 104,
     "metadata": {},
     "output_type": "execute_result"
    }
   ],
   "source": [
    "midnight_restos['rating'].mean()"
   ]
  },
  {
   "cell_type": "code",
   "execution_count": 116,
   "id": "9fc2c901",
   "metadata": {},
   "outputs": [
    {
     "name": "stderr",
     "output_type": "stream",
     "text": [
      "c:\\users\\joy\\appdata\\local\\programs\\python\\python36\\lib\\site-packages\\seaborn\\_decorators.py:43: FutureWarning: Pass the following variables as keyword args: x, y. From version 0.12, the only valid positional argument will be `data`, and passing other arguments without an explicit keyword will result in an error or misinterpretation.\n",
      "  FutureWarning\n"
     ]
    },
    {
     "data": {
      "image/png": "[encoded data removed]",
      "text/plain": [
       "<Figure size 576x360 with 1 Axes>"
      ]
     },
     "metadata": {
      "needs_background": "light"
     },
     "output_type": "display_data"
    }
   ],
   "source": [
    "sns.scatterplot(midnight_restos['cost'],midnight_restos['rating'])\n",
    "plt.rcParams['figure.figsize']=(8,5)\n",
    "plt.show()"
   ]
  },
  {
   "cell_type": "code",
   "execution_count": 105,
   "id": "c694c138",
   "metadata": {},
   "outputs": [
    {
     "data": {
      "text/plain": [
       "128.40597014925373"
      ]
     },
     "execution_count": 105,
     "metadata": {},
     "output_type": "execute_result"
    }
   ],
   "source": [
    "midnight_restos['voteCount'].mean()"
   ]
  },
  {
   "cell_type": "code",
   "execution_count": 106,
   "id": "4e467d8e",
   "metadata": {},
   "outputs": [
    {
     "data": {
      "text/plain": [
       "2.4923042572194105"
      ]
     },
     "execution_count": 106,
     "metadata": {},
     "output_type": "execute_result"
    }
   ],
   "source": [
    "genral_timed_resto['rating'].mean()"
   ]
  },
  {
   "cell_type": "code",
   "execution_count": 107,
   "id": "6a84fd9d",
   "metadata": {},
   "outputs": [
    {
     "data": {
      "text/plain": [
       "107.52545400416791"
      ]
     },
     "execution_count": 107,
     "metadata": {},
     "output_type": "execute_result"
    }
   ],
   "source": [
    "genral_timed_resto['voteCount'].mean()"
   ]
  },
  {
   "cell_type": "code",
   "execution_count": null,
   "id": "58918811",
   "metadata": {},
   "outputs": [],
   "source": []
  },
  {
   "cell_type": "code",
   "execution_count": null,
   "id": "cfcd973a",
   "metadata": {},
   "outputs": [],
   "source": []
  }
 ],
 "metadata": {
  "kernelspec": {
   "display_name": "Python 3",
   "language": "python",
   "name": "python3"
  },
  "language_info": {
   "codemirror_mode": {
    "name": "ipython",
    "version": 3
   },
   "file_extension": ".py",
   "mimetype": "text/x-python",
   "name": "python",
   "nbconvert_exporter": "python",
   "pygments_lexer": "ipython3",
   "version": "3.6.8"
  }
 },
 "nbformat": 4,
 "nbformat_minor": 5
}
